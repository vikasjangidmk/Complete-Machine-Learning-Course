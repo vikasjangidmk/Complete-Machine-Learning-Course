{
 "cells": [
  {
   "cell_type": "code",
   "execution_count": 1,
   "id": "36202bb4",
   "metadata": {},
   "outputs": [],
   "source": [
    "import pandas as pd\n",
    "import numpy as np\n",
    "import seaborn as sns\n",
    "import matplotlib.pyplot as plt\n",
    "import warnings\n",
    "warnings.filterwarnings(\"ignore\")"
   ]
  },
  {
   "cell_type": "code",
   "execution_count": 2,
   "id": "52a58869",
   "metadata": {},
   "outputs": [
    {
     "data": {
      "application/vnd.microsoft.datawrangler.viewer.v0+json": {
       "columns": [
        {
         "name": "index",
         "rawType": "int64",
         "type": "integer"
        },
        {
         "name": "age",
         "rawType": "int64",
         "type": "integer"
        },
        {
         "name": "sex",
         "rawType": "object",
         "type": "string"
        },
        {
         "name": "bmi",
         "rawType": "float64",
         "type": "float"
        },
        {
         "name": "children",
         "rawType": "int64",
         "type": "integer"
        },
        {
         "name": "smoker",
         "rawType": "object",
         "type": "string"
        },
        {
         "name": "region",
         "rawType": "object",
         "type": "string"
        },
        {
         "name": "charges",
         "rawType": "float64",
         "type": "float"
        }
       ],
       "ref": "45b60304-cfa2-4089-a66a-398015169d06",
       "rows": [
        [
         "0",
         "19",
         "female",
         "27.9",
         "0",
         "yes",
         "southwest",
         "16884.924"
        ],
        [
         "1",
         "18",
         "male",
         "33.77",
         "1",
         "no",
         "southeast",
         "1725.5523"
        ],
        [
         "2",
         "28",
         "male",
         "33.0",
         "3",
         "no",
         "southeast",
         "4449.462"
        ],
        [
         "3",
         "33",
         "male",
         "22.705",
         "0",
         "no",
         "northwest",
         "21984.47061"
        ],
        [
         "4",
         "32",
         "male",
         "28.88",
         "0",
         "no",
         "northwest",
         "3866.8552"
        ]
       ],
       "shape": {
        "columns": 7,
        "rows": 5
       }
      },
      "text/html": [
       "<div>\n",
       "<style scoped>\n",
       "    .dataframe tbody tr th:only-of-type {\n",
       "        vertical-align: middle;\n",
       "    }\n",
       "\n",
       "    .dataframe tbody tr th {\n",
       "        vertical-align: top;\n",
       "    }\n",
       "\n",
       "    .dataframe thead th {\n",
       "        text-align: right;\n",
       "    }\n",
       "</style>\n",
       "<table border=\"1\" class=\"dataframe\">\n",
       "  <thead>\n",
       "    <tr style=\"text-align: right;\">\n",
       "      <th></th>\n",
       "      <th>age</th>\n",
       "      <th>sex</th>\n",
       "      <th>bmi</th>\n",
       "      <th>children</th>\n",
       "      <th>smoker</th>\n",
       "      <th>region</th>\n",
       "      <th>charges</th>\n",
       "    </tr>\n",
       "  </thead>\n",
       "  <tbody>\n",
       "    <tr>\n",
       "      <th>0</th>\n",
       "      <td>19</td>\n",
       "      <td>female</td>\n",
       "      <td>27.900</td>\n",
       "      <td>0</td>\n",
       "      <td>yes</td>\n",
       "      <td>southwest</td>\n",
       "      <td>16884.92400</td>\n",
       "    </tr>\n",
       "    <tr>\n",
       "      <th>1</th>\n",
       "      <td>18</td>\n",
       "      <td>male</td>\n",
       "      <td>33.770</td>\n",
       "      <td>1</td>\n",
       "      <td>no</td>\n",
       "      <td>southeast</td>\n",
       "      <td>1725.55230</td>\n",
       "    </tr>\n",
       "    <tr>\n",
       "      <th>2</th>\n",
       "      <td>28</td>\n",
       "      <td>male</td>\n",
       "      <td>33.000</td>\n",
       "      <td>3</td>\n",
       "      <td>no</td>\n",
       "      <td>southeast</td>\n",
       "      <td>4449.46200</td>\n",
       "    </tr>\n",
       "    <tr>\n",
       "      <th>3</th>\n",
       "      <td>33</td>\n",
       "      <td>male</td>\n",
       "      <td>22.705</td>\n",
       "      <td>0</td>\n",
       "      <td>no</td>\n",
       "      <td>northwest</td>\n",
       "      <td>21984.47061</td>\n",
       "    </tr>\n",
       "    <tr>\n",
       "      <th>4</th>\n",
       "      <td>32</td>\n",
       "      <td>male</td>\n",
       "      <td>28.880</td>\n",
       "      <td>0</td>\n",
       "      <td>no</td>\n",
       "      <td>northwest</td>\n",
       "      <td>3866.85520</td>\n",
       "    </tr>\n",
       "  </tbody>\n",
       "</table>\n",
       "</div>"
      ],
      "text/plain": [
       "   age     sex     bmi  children smoker     region      charges\n",
       "0   19  female  27.900         0    yes  southwest  16884.92400\n",
       "1   18    male  33.770         1     no  southeast   1725.55230\n",
       "2   28    male  33.000         3     no  southeast   4449.46200\n",
       "3   33    male  22.705         0     no  northwest  21984.47061\n",
       "4   32    male  28.880         0     no  northwest   3866.85520"
      ]
     },
     "execution_count": 2,
     "metadata": {},
     "output_type": "execute_result"
    }
   ],
   "source": [
    "df = pd.read_csv(\"insurance.csv\")\n",
    "df.head()"
   ]
  },
  {
   "cell_type": "markdown",
   "id": "3f653f6c",
   "metadata": {},
   "source": [
    "## **EDA**"
   ]
  },
  {
   "cell_type": "code",
   "execution_count": 3,
   "id": "9a5d93d4",
   "metadata": {},
   "outputs": [
    {
     "data": {
      "text/plain": [
       "(1338, 7)"
      ]
     },
     "execution_count": 3,
     "metadata": {},
     "output_type": "execute_result"
    }
   ],
   "source": [
    "df.shape"
   ]
  },
  {
   "cell_type": "code",
   "execution_count": 4,
   "id": "1f703a81",
   "metadata": {},
   "outputs": [
    {
     "data": {
      "application/vnd.microsoft.datawrangler.viewer.v0+json": {
       "columns": [
        {
         "name": "index",
         "rawType": "int64",
         "type": "integer"
        },
        {
         "name": "age",
         "rawType": "int64",
         "type": "integer"
        },
        {
         "name": "sex",
         "rawType": "object",
         "type": "string"
        },
        {
         "name": "bmi",
         "rawType": "float64",
         "type": "float"
        },
        {
         "name": "children",
         "rawType": "int64",
         "type": "integer"
        },
        {
         "name": "smoker",
         "rawType": "object",
         "type": "string"
        },
        {
         "name": "region",
         "rawType": "object",
         "type": "string"
        },
        {
         "name": "charges",
         "rawType": "float64",
         "type": "float"
        }
       ],
       "ref": "abd6d999-9aef-445c-9309-ec989b3668e5",
       "rows": [
        [
         "0",
         "19",
         "female",
         "27.9",
         "0",
         "yes",
         "southwest",
         "16884.924"
        ],
        [
         "1",
         "18",
         "male",
         "33.77",
         "1",
         "no",
         "southeast",
         "1725.5523"
        ],
        [
         "2",
         "28",
         "male",
         "33.0",
         "3",
         "no",
         "southeast",
         "4449.462"
        ],
        [
         "3",
         "33",
         "male",
         "22.705",
         "0",
         "no",
         "northwest",
         "21984.47061"
        ],
        [
         "4",
         "32",
         "male",
         "28.88",
         "0",
         "no",
         "northwest",
         "3866.8552"
        ],
        [
         "5",
         "31",
         "female",
         "25.74",
         "0",
         "no",
         "southeast",
         "3756.6216"
        ],
        [
         "6",
         "46",
         "female",
         "33.44",
         "1",
         "no",
         "southeast",
         "8240.5896"
        ],
        [
         "7",
         "37",
         "female",
         "27.74",
         "3",
         "no",
         "northwest",
         "7281.5056"
        ],
        [
         "8",
         "37",
         "male",
         "29.83",
         "2",
         "no",
         "northeast",
         "6406.4107"
        ],
        [
         "9",
         "60",
         "female",
         "25.84",
         "0",
         "no",
         "northwest",
         "28923.13692"
        ],
        [
         "10",
         "25",
         "male",
         "26.22",
         "0",
         "no",
         "northeast",
         "2721.3208"
        ],
        [
         "11",
         "62",
         "female",
         "26.29",
         "0",
         "yes",
         "southeast",
         "27808.7251"
        ],
        [
         "12",
         "23",
         "male",
         "34.4",
         "0",
         "no",
         "southwest",
         "1826.843"
        ],
        [
         "13",
         "56",
         "female",
         "39.82",
         "0",
         "no",
         "southeast",
         "11090.7178"
        ],
        [
         "14",
         "27",
         "male",
         "42.13",
         "0",
         "yes",
         "southeast",
         "39611.7577"
        ],
        [
         "15",
         "19",
         "male",
         "24.6",
         "1",
         "no",
         "southwest",
         "1837.237"
        ],
        [
         "16",
         "52",
         "female",
         "30.78",
         "1",
         "no",
         "northeast",
         "10797.3362"
        ],
        [
         "17",
         "23",
         "male",
         "23.845",
         "0",
         "no",
         "northeast",
         "2395.17155"
        ],
        [
         "18",
         "56",
         "male",
         "40.3",
         "0",
         "no",
         "southwest",
         "10602.385"
        ],
        [
         "19",
         "30",
         "male",
         "35.3",
         "0",
         "yes",
         "southwest",
         "36837.467"
        ],
        [
         "20",
         "60",
         "female",
         "36.005",
         "0",
         "no",
         "northeast",
         "13228.84695"
        ],
        [
         "21",
         "30",
         "female",
         "32.4",
         "1",
         "no",
         "southwest",
         "4149.736"
        ],
        [
         "22",
         "18",
         "male",
         "34.1",
         "0",
         "no",
         "southeast",
         "1137.011"
        ],
        [
         "23",
         "34",
         "female",
         "31.92",
         "1",
         "yes",
         "northeast",
         "37701.8768"
        ],
        [
         "24",
         "37",
         "male",
         "28.025",
         "2",
         "no",
         "northwest",
         "6203.90175"
        ],
        [
         "25",
         "59",
         "female",
         "27.72",
         "3",
         "no",
         "southeast",
         "14001.1338"
        ],
        [
         "26",
         "63",
         "female",
         "23.085",
         "0",
         "no",
         "northeast",
         "14451.83515"
        ],
        [
         "27",
         "55",
         "female",
         "32.775",
         "2",
         "no",
         "northwest",
         "12268.63225"
        ],
        [
         "28",
         "23",
         "male",
         "17.385",
         "1",
         "no",
         "northwest",
         "2775.19215"
        ],
        [
         "29",
         "31",
         "male",
         "36.3",
         "2",
         "yes",
         "southwest",
         "38711.0"
        ],
        [
         "30",
         "22",
         "male",
         "35.6",
         "0",
         "yes",
         "southwest",
         "35585.576"
        ],
        [
         "31",
         "18",
         "female",
         "26.315",
         "0",
         "no",
         "northeast",
         "2198.18985"
        ],
        [
         "32",
         "19",
         "female",
         "28.6",
         "5",
         "no",
         "southwest",
         "4687.797"
        ],
        [
         "33",
         "63",
         "male",
         "28.31",
         "0",
         "no",
         "northwest",
         "13770.0979"
        ],
        [
         "34",
         "28",
         "male",
         "36.4",
         "1",
         "yes",
         "southwest",
         "51194.55914"
        ],
        [
         "35",
         "19",
         "male",
         "20.425",
         "0",
         "no",
         "northwest",
         "1625.43375"
        ],
        [
         "36",
         "62",
         "female",
         "32.965",
         "3",
         "no",
         "northwest",
         "15612.19335"
        ],
        [
         "37",
         "26",
         "male",
         "20.8",
         "0",
         "no",
         "southwest",
         "2302.3"
        ],
        [
         "38",
         "35",
         "male",
         "36.67",
         "1",
         "yes",
         "northeast",
         "39774.2763"
        ],
        [
         "39",
         "60",
         "male",
         "39.9",
         "0",
         "yes",
         "southwest",
         "48173.361"
        ],
        [
         "40",
         "24",
         "female",
         "26.6",
         "0",
         "no",
         "northeast",
         "3046.062"
        ],
        [
         "41",
         "31",
         "female",
         "36.63",
         "2",
         "no",
         "southeast",
         "4949.7587"
        ],
        [
         "42",
         "41",
         "male",
         "21.78",
         "1",
         "no",
         "southeast",
         "6272.4772"
        ],
        [
         "43",
         "37",
         "female",
         "30.8",
         "2",
         "no",
         "southeast",
         "6313.759"
        ],
        [
         "44",
         "38",
         "male",
         "37.05",
         "1",
         "no",
         "northeast",
         "6079.6715"
        ],
        [
         "45",
         "55",
         "male",
         "37.3",
         "0",
         "no",
         "southwest",
         "20630.28351"
        ],
        [
         "46",
         "18",
         "female",
         "38.665",
         "2",
         "no",
         "northeast",
         "3393.35635"
        ],
        [
         "47",
         "28",
         "female",
         "34.77",
         "0",
         "no",
         "northwest",
         "3556.9223"
        ],
        [
         "48",
         "60",
         "female",
         "24.53",
         "0",
         "no",
         "southeast",
         "12629.8967"
        ],
        [
         "49",
         "36",
         "male",
         "35.2",
         "1",
         "yes",
         "southeast",
         "38709.176"
        ]
       ],
       "shape": {
        "columns": 7,
        "rows": 1338
       }
      },
      "text/html": [
       "<div>\n",
       "<style scoped>\n",
       "    .dataframe tbody tr th:only-of-type {\n",
       "        vertical-align: middle;\n",
       "    }\n",
       "\n",
       "    .dataframe tbody tr th {\n",
       "        vertical-align: top;\n",
       "    }\n",
       "\n",
       "    .dataframe thead th {\n",
       "        text-align: right;\n",
       "    }\n",
       "</style>\n",
       "<table border=\"1\" class=\"dataframe\">\n",
       "  <thead>\n",
       "    <tr style=\"text-align: right;\">\n",
       "      <th></th>\n",
       "      <th>age</th>\n",
       "      <th>sex</th>\n",
       "      <th>bmi</th>\n",
       "      <th>children</th>\n",
       "      <th>smoker</th>\n",
       "      <th>region</th>\n",
       "      <th>charges</th>\n",
       "    </tr>\n",
       "  </thead>\n",
       "  <tbody>\n",
       "    <tr>\n",
       "      <th>0</th>\n",
       "      <td>19</td>\n",
       "      <td>female</td>\n",
       "      <td>27.900</td>\n",
       "      <td>0</td>\n",
       "      <td>yes</td>\n",
       "      <td>southwest</td>\n",
       "      <td>16884.92400</td>\n",
       "    </tr>\n",
       "    <tr>\n",
       "      <th>1</th>\n",
       "      <td>18</td>\n",
       "      <td>male</td>\n",
       "      <td>33.770</td>\n",
       "      <td>1</td>\n",
       "      <td>no</td>\n",
       "      <td>southeast</td>\n",
       "      <td>1725.55230</td>\n",
       "    </tr>\n",
       "    <tr>\n",
       "      <th>2</th>\n",
       "      <td>28</td>\n",
       "      <td>male</td>\n",
       "      <td>33.000</td>\n",
       "      <td>3</td>\n",
       "      <td>no</td>\n",
       "      <td>southeast</td>\n",
       "      <td>4449.46200</td>\n",
       "    </tr>\n",
       "    <tr>\n",
       "      <th>3</th>\n",
       "      <td>33</td>\n",
       "      <td>male</td>\n",
       "      <td>22.705</td>\n",
       "      <td>0</td>\n",
       "      <td>no</td>\n",
       "      <td>northwest</td>\n",
       "      <td>21984.47061</td>\n",
       "    </tr>\n",
       "    <tr>\n",
       "      <th>4</th>\n",
       "      <td>32</td>\n",
       "      <td>male</td>\n",
       "      <td>28.880</td>\n",
       "      <td>0</td>\n",
       "      <td>no</td>\n",
       "      <td>northwest</td>\n",
       "      <td>3866.85520</td>\n",
       "    </tr>\n",
       "    <tr>\n",
       "      <th>...</th>\n",
       "      <td>...</td>\n",
       "      <td>...</td>\n",
       "      <td>...</td>\n",
       "      <td>...</td>\n",
       "      <td>...</td>\n",
       "      <td>...</td>\n",
       "      <td>...</td>\n",
       "    </tr>\n",
       "    <tr>\n",
       "      <th>1333</th>\n",
       "      <td>50</td>\n",
       "      <td>male</td>\n",
       "      <td>30.970</td>\n",
       "      <td>3</td>\n",
       "      <td>no</td>\n",
       "      <td>northwest</td>\n",
       "      <td>10600.54830</td>\n",
       "    </tr>\n",
       "    <tr>\n",
       "      <th>1334</th>\n",
       "      <td>18</td>\n",
       "      <td>female</td>\n",
       "      <td>31.920</td>\n",
       "      <td>0</td>\n",
       "      <td>no</td>\n",
       "      <td>northeast</td>\n",
       "      <td>2205.98080</td>\n",
       "    </tr>\n",
       "    <tr>\n",
       "      <th>1335</th>\n",
       "      <td>18</td>\n",
       "      <td>female</td>\n",
       "      <td>36.850</td>\n",
       "      <td>0</td>\n",
       "      <td>no</td>\n",
       "      <td>southeast</td>\n",
       "      <td>1629.83350</td>\n",
       "    </tr>\n",
       "    <tr>\n",
       "      <th>1336</th>\n",
       "      <td>21</td>\n",
       "      <td>female</td>\n",
       "      <td>25.800</td>\n",
       "      <td>0</td>\n",
       "      <td>no</td>\n",
       "      <td>southwest</td>\n",
       "      <td>2007.94500</td>\n",
       "    </tr>\n",
       "    <tr>\n",
       "      <th>1337</th>\n",
       "      <td>61</td>\n",
       "      <td>female</td>\n",
       "      <td>29.070</td>\n",
       "      <td>0</td>\n",
       "      <td>yes</td>\n",
       "      <td>northwest</td>\n",
       "      <td>29141.36030</td>\n",
       "    </tr>\n",
       "  </tbody>\n",
       "</table>\n",
       "<p>1338 rows × 7 columns</p>\n",
       "</div>"
      ],
      "text/plain": [
       "      age     sex     bmi  children smoker     region      charges\n",
       "0      19  female  27.900         0    yes  southwest  16884.92400\n",
       "1      18    male  33.770         1     no  southeast   1725.55230\n",
       "2      28    male  33.000         3     no  southeast   4449.46200\n",
       "3      33    male  22.705         0     no  northwest  21984.47061\n",
       "4      32    male  28.880         0     no  northwest   3866.85520\n",
       "...   ...     ...     ...       ...    ...        ...          ...\n",
       "1333   50    male  30.970         3     no  northwest  10600.54830\n",
       "1334   18  female  31.920         0     no  northeast   2205.98080\n",
       "1335   18  female  36.850         0     no  southeast   1629.83350\n",
       "1336   21  female  25.800         0     no  southwest   2007.94500\n",
       "1337   61  female  29.070         0    yes  northwest  29141.36030\n",
       "\n",
       "[1338 rows x 7 columns]"
      ]
     },
     "execution_count": 4,
     "metadata": {},
     "output_type": "execute_result"
    }
   ],
   "source": [
    "df"
   ]
  },
  {
   "cell_type": "code",
   "execution_count": 5,
   "id": "bc53df74",
   "metadata": {},
   "outputs": [
    {
     "data": {
      "application/vnd.microsoft.datawrangler.viewer.v0+json": {
       "columns": [
        {
         "name": "index",
         "rawType": "int64",
         "type": "integer"
        },
        {
         "name": "age",
         "rawType": "int64",
         "type": "integer"
        },
        {
         "name": "sex",
         "rawType": "object",
         "type": "string"
        },
        {
         "name": "bmi",
         "rawType": "float64",
         "type": "float"
        },
        {
         "name": "children",
         "rawType": "int64",
         "type": "integer"
        },
        {
         "name": "smoker",
         "rawType": "object",
         "type": "string"
        },
        {
         "name": "region",
         "rawType": "object",
         "type": "string"
        },
        {
         "name": "charges",
         "rawType": "float64",
         "type": "float"
        }
       ],
       "ref": "9e28a058-423b-4950-bdce-c12b69b5f893",
       "rows": [
        [
         "1333",
         "50",
         "male",
         "30.97",
         "3",
         "no",
         "northwest",
         "10600.5483"
        ],
        [
         "1334",
         "18",
         "female",
         "31.92",
         "0",
         "no",
         "northeast",
         "2205.9808"
        ],
        [
         "1335",
         "18",
         "female",
         "36.85",
         "0",
         "no",
         "southeast",
         "1629.8335"
        ],
        [
         "1336",
         "21",
         "female",
         "25.8",
         "0",
         "no",
         "southwest",
         "2007.945"
        ],
        [
         "1337",
         "61",
         "female",
         "29.07",
         "0",
         "yes",
         "northwest",
         "29141.3603"
        ]
       ],
       "shape": {
        "columns": 7,
        "rows": 5
       }
      },
      "text/html": [
       "<div>\n",
       "<style scoped>\n",
       "    .dataframe tbody tr th:only-of-type {\n",
       "        vertical-align: middle;\n",
       "    }\n",
       "\n",
       "    .dataframe tbody tr th {\n",
       "        vertical-align: top;\n",
       "    }\n",
       "\n",
       "    .dataframe thead th {\n",
       "        text-align: right;\n",
       "    }\n",
       "</style>\n",
       "<table border=\"1\" class=\"dataframe\">\n",
       "  <thead>\n",
       "    <tr style=\"text-align: right;\">\n",
       "      <th></th>\n",
       "      <th>age</th>\n",
       "      <th>sex</th>\n",
       "      <th>bmi</th>\n",
       "      <th>children</th>\n",
       "      <th>smoker</th>\n",
       "      <th>region</th>\n",
       "      <th>charges</th>\n",
       "    </tr>\n",
       "  </thead>\n",
       "  <tbody>\n",
       "    <tr>\n",
       "      <th>1333</th>\n",
       "      <td>50</td>\n",
       "      <td>male</td>\n",
       "      <td>30.97</td>\n",
       "      <td>3</td>\n",
       "      <td>no</td>\n",
       "      <td>northwest</td>\n",
       "      <td>10600.5483</td>\n",
       "    </tr>\n",
       "    <tr>\n",
       "      <th>1334</th>\n",
       "      <td>18</td>\n",
       "      <td>female</td>\n",
       "      <td>31.92</td>\n",
       "      <td>0</td>\n",
       "      <td>no</td>\n",
       "      <td>northeast</td>\n",
       "      <td>2205.9808</td>\n",
       "    </tr>\n",
       "    <tr>\n",
       "      <th>1335</th>\n",
       "      <td>18</td>\n",
       "      <td>female</td>\n",
       "      <td>36.85</td>\n",
       "      <td>0</td>\n",
       "      <td>no</td>\n",
       "      <td>southeast</td>\n",
       "      <td>1629.8335</td>\n",
       "    </tr>\n",
       "    <tr>\n",
       "      <th>1336</th>\n",
       "      <td>21</td>\n",
       "      <td>female</td>\n",
       "      <td>25.80</td>\n",
       "      <td>0</td>\n",
       "      <td>no</td>\n",
       "      <td>southwest</td>\n",
       "      <td>2007.9450</td>\n",
       "    </tr>\n",
       "    <tr>\n",
       "      <th>1337</th>\n",
       "      <td>61</td>\n",
       "      <td>female</td>\n",
       "      <td>29.07</td>\n",
       "      <td>0</td>\n",
       "      <td>yes</td>\n",
       "      <td>northwest</td>\n",
       "      <td>29141.3603</td>\n",
       "    </tr>\n",
       "  </tbody>\n",
       "</table>\n",
       "</div>"
      ],
      "text/plain": [
       "      age     sex    bmi  children smoker     region     charges\n",
       "1333   50    male  30.97         3     no  northwest  10600.5483\n",
       "1334   18  female  31.92         0     no  northeast   2205.9808\n",
       "1335   18  female  36.85         0     no  southeast   1629.8335\n",
       "1336   21  female  25.80         0     no  southwest   2007.9450\n",
       "1337   61  female  29.07         0    yes  northwest  29141.3603"
      ]
     },
     "execution_count": 5,
     "metadata": {},
     "output_type": "execute_result"
    }
   ],
   "source": [
    "df.tail()"
   ]
  },
  {
   "cell_type": "code",
   "execution_count": 6,
   "id": "4373d209",
   "metadata": {},
   "outputs": [
    {
     "data": {
      "application/vnd.microsoft.datawrangler.viewer.v0+json": {
       "columns": [
        {
         "name": "index",
         "rawType": "int64",
         "type": "integer"
        },
        {
         "name": "age",
         "rawType": "int64",
         "type": "integer"
        },
        {
         "name": "sex",
         "rawType": "object",
         "type": "string"
        },
        {
         "name": "bmi",
         "rawType": "float64",
         "type": "float"
        },
        {
         "name": "children",
         "rawType": "int64",
         "type": "integer"
        },
        {
         "name": "smoker",
         "rawType": "object",
         "type": "string"
        },
        {
         "name": "region",
         "rawType": "object",
         "type": "string"
        },
        {
         "name": "charges",
         "rawType": "float64",
         "type": "float"
        }
       ],
       "ref": "c4a84b52-0bc5-46e7-9c18-82078098c7f8",
       "rows": [
        [
         "0",
         "19",
         "female",
         "27.9",
         "0",
         "yes",
         "southwest",
         "16884.924"
        ],
        [
         "1",
         "18",
         "male",
         "33.77",
         "1",
         "no",
         "southeast",
         "1725.5523"
        ],
        [
         "2",
         "28",
         "male",
         "33.0",
         "3",
         "no",
         "southeast",
         "4449.462"
        ],
        [
         "3",
         "33",
         "male",
         "22.705",
         "0",
         "no",
         "northwest",
         "21984.47061"
        ],
        [
         "4",
         "32",
         "male",
         "28.88",
         "0",
         "no",
         "northwest",
         "3866.8552"
        ]
       ],
       "shape": {
        "columns": 7,
        "rows": 5
       }
      },
      "text/html": [
       "<div>\n",
       "<style scoped>\n",
       "    .dataframe tbody tr th:only-of-type {\n",
       "        vertical-align: middle;\n",
       "    }\n",
       "\n",
       "    .dataframe tbody tr th {\n",
       "        vertical-align: top;\n",
       "    }\n",
       "\n",
       "    .dataframe thead th {\n",
       "        text-align: right;\n",
       "    }\n",
       "</style>\n",
       "<table border=\"1\" class=\"dataframe\">\n",
       "  <thead>\n",
       "    <tr style=\"text-align: right;\">\n",
       "      <th></th>\n",
       "      <th>age</th>\n",
       "      <th>sex</th>\n",
       "      <th>bmi</th>\n",
       "      <th>children</th>\n",
       "      <th>smoker</th>\n",
       "      <th>region</th>\n",
       "      <th>charges</th>\n",
       "    </tr>\n",
       "  </thead>\n",
       "  <tbody>\n",
       "    <tr>\n",
       "      <th>0</th>\n",
       "      <td>19</td>\n",
       "      <td>female</td>\n",
       "      <td>27.900</td>\n",
       "      <td>0</td>\n",
       "      <td>yes</td>\n",
       "      <td>southwest</td>\n",
       "      <td>16884.92400</td>\n",
       "    </tr>\n",
       "    <tr>\n",
       "      <th>1</th>\n",
       "      <td>18</td>\n",
       "      <td>male</td>\n",
       "      <td>33.770</td>\n",
       "      <td>1</td>\n",
       "      <td>no</td>\n",
       "      <td>southeast</td>\n",
       "      <td>1725.55230</td>\n",
       "    </tr>\n",
       "    <tr>\n",
       "      <th>2</th>\n",
       "      <td>28</td>\n",
       "      <td>male</td>\n",
       "      <td>33.000</td>\n",
       "      <td>3</td>\n",
       "      <td>no</td>\n",
       "      <td>southeast</td>\n",
       "      <td>4449.46200</td>\n",
       "    </tr>\n",
       "    <tr>\n",
       "      <th>3</th>\n",
       "      <td>33</td>\n",
       "      <td>male</td>\n",
       "      <td>22.705</td>\n",
       "      <td>0</td>\n",
       "      <td>no</td>\n",
       "      <td>northwest</td>\n",
       "      <td>21984.47061</td>\n",
       "    </tr>\n",
       "    <tr>\n",
       "      <th>4</th>\n",
       "      <td>32</td>\n",
       "      <td>male</td>\n",
       "      <td>28.880</td>\n",
       "      <td>0</td>\n",
       "      <td>no</td>\n",
       "      <td>northwest</td>\n",
       "      <td>3866.85520</td>\n",
       "    </tr>\n",
       "  </tbody>\n",
       "</table>\n",
       "</div>"
      ],
      "text/plain": [
       "   age     sex     bmi  children smoker     region      charges\n",
       "0   19  female  27.900         0    yes  southwest  16884.92400\n",
       "1   18    male  33.770         1     no  southeast   1725.55230\n",
       "2   28    male  33.000         3     no  southeast   4449.46200\n",
       "3   33    male  22.705         0     no  northwest  21984.47061\n",
       "4   32    male  28.880         0     no  northwest   3866.85520"
      ]
     },
     "execution_count": 6,
     "metadata": {},
     "output_type": "execute_result"
    }
   ],
   "source": [
    "df.head()"
   ]
  },
  {
   "cell_type": "code",
   "execution_count": 7,
   "id": "f46454ff",
   "metadata": {},
   "outputs": [
    {
     "name": "stdout",
     "output_type": "stream",
     "text": [
      "<class 'pandas.core.frame.DataFrame'>\n",
      "RangeIndex: 1338 entries, 0 to 1337\n",
      "Data columns (total 7 columns):\n",
      " #   Column    Non-Null Count  Dtype  \n",
      "---  ------    --------------  -----  \n",
      " 0   age       1338 non-null   int64  \n",
      " 1   sex       1338 non-null   object \n",
      " 2   bmi       1338 non-null   float64\n",
      " 3   children  1338 non-null   int64  \n",
      " 4   smoker    1338 non-null   object \n",
      " 5   region    1338 non-null   object \n",
      " 6   charges   1338 non-null   float64\n",
      "dtypes: float64(2), int64(2), object(3)\n",
      "memory usage: 73.3+ KB\n"
     ]
    }
   ],
   "source": [
    "df.info()"
   ]
  },
  {
   "cell_type": "code",
   "execution_count": 8,
   "id": "fc61be99",
   "metadata": {},
   "outputs": [
    {
     "data": {
      "application/vnd.microsoft.datawrangler.viewer.v0+json": {
       "columns": [
        {
         "name": "index",
         "rawType": "object",
         "type": "string"
        },
        {
         "name": "age",
         "rawType": "float64",
         "type": "float"
        },
        {
         "name": "bmi",
         "rawType": "float64",
         "type": "float"
        },
        {
         "name": "children",
         "rawType": "float64",
         "type": "float"
        },
        {
         "name": "charges",
         "rawType": "float64",
         "type": "float"
        }
       ],
       "ref": "c46d8e07-f15d-477d-90b6-ff372eb3d417",
       "rows": [
        [
         "count",
         "1338.0",
         "1338.0",
         "1338.0",
         "1338.0"
        ],
        [
         "mean",
         "39.20702541106129",
         "30.66339686098655",
         "1.0949177877429",
         "13270.422265141257"
        ],
        [
         "std",
         "14.049960379216154",
         "6.098186911679014",
         "1.205492739781914",
         "12110.011236694001"
        ],
        [
         "min",
         "18.0",
         "15.96",
         "0.0",
         "1121.8739"
        ],
        [
         "25%",
         "27.0",
         "26.29625",
         "0.0",
         "4740.28715"
        ],
        [
         "50%",
         "39.0",
         "30.4",
         "1.0",
         "9382.033"
        ],
        [
         "75%",
         "51.0",
         "34.69375",
         "2.0",
         "16639.912515"
        ],
        [
         "max",
         "64.0",
         "53.13",
         "5.0",
         "63770.42801"
        ]
       ],
       "shape": {
        "columns": 4,
        "rows": 8
       }
      },
      "text/html": [
       "<div>\n",
       "<style scoped>\n",
       "    .dataframe tbody tr th:only-of-type {\n",
       "        vertical-align: middle;\n",
       "    }\n",
       "\n",
       "    .dataframe tbody tr th {\n",
       "        vertical-align: top;\n",
       "    }\n",
       "\n",
       "    .dataframe thead th {\n",
       "        text-align: right;\n",
       "    }\n",
       "</style>\n",
       "<table border=\"1\" class=\"dataframe\">\n",
       "  <thead>\n",
       "    <tr style=\"text-align: right;\">\n",
       "      <th></th>\n",
       "      <th>age</th>\n",
       "      <th>bmi</th>\n",
       "      <th>children</th>\n",
       "      <th>charges</th>\n",
       "    </tr>\n",
       "  </thead>\n",
       "  <tbody>\n",
       "    <tr>\n",
       "      <th>count</th>\n",
       "      <td>1338.000000</td>\n",
       "      <td>1338.000000</td>\n",
       "      <td>1338.000000</td>\n",
       "      <td>1338.000000</td>\n",
       "    </tr>\n",
       "    <tr>\n",
       "      <th>mean</th>\n",
       "      <td>39.207025</td>\n",
       "      <td>30.663397</td>\n",
       "      <td>1.094918</td>\n",
       "      <td>13270.422265</td>\n",
       "    </tr>\n",
       "    <tr>\n",
       "      <th>std</th>\n",
       "      <td>14.049960</td>\n",
       "      <td>6.098187</td>\n",
       "      <td>1.205493</td>\n",
       "      <td>12110.011237</td>\n",
       "    </tr>\n",
       "    <tr>\n",
       "      <th>min</th>\n",
       "      <td>18.000000</td>\n",
       "      <td>15.960000</td>\n",
       "      <td>0.000000</td>\n",
       "      <td>1121.873900</td>\n",
       "    </tr>\n",
       "    <tr>\n",
       "      <th>25%</th>\n",
       "      <td>27.000000</td>\n",
       "      <td>26.296250</td>\n",
       "      <td>0.000000</td>\n",
       "      <td>4740.287150</td>\n",
       "    </tr>\n",
       "    <tr>\n",
       "      <th>50%</th>\n",
       "      <td>39.000000</td>\n",
       "      <td>30.400000</td>\n",
       "      <td>1.000000</td>\n",
       "      <td>9382.033000</td>\n",
       "    </tr>\n",
       "    <tr>\n",
       "      <th>75%</th>\n",
       "      <td>51.000000</td>\n",
       "      <td>34.693750</td>\n",
       "      <td>2.000000</td>\n",
       "      <td>16639.912515</td>\n",
       "    </tr>\n",
       "    <tr>\n",
       "      <th>max</th>\n",
       "      <td>64.000000</td>\n",
       "      <td>53.130000</td>\n",
       "      <td>5.000000</td>\n",
       "      <td>63770.428010</td>\n",
       "    </tr>\n",
       "  </tbody>\n",
       "</table>\n",
       "</div>"
      ],
      "text/plain": [
       "               age          bmi     children       charges\n",
       "count  1338.000000  1338.000000  1338.000000   1338.000000\n",
       "mean     39.207025    30.663397     1.094918  13270.422265\n",
       "std      14.049960     6.098187     1.205493  12110.011237\n",
       "min      18.000000    15.960000     0.000000   1121.873900\n",
       "25%      27.000000    26.296250     0.000000   4740.287150\n",
       "50%      39.000000    30.400000     1.000000   9382.033000\n",
       "75%      51.000000    34.693750     2.000000  16639.912515\n",
       "max      64.000000    53.130000     5.000000  63770.428010"
      ]
     },
     "execution_count": 8,
     "metadata": {},
     "output_type": "execute_result"
    }
   ],
   "source": [
    "df.describe()"
   ]
  },
  {
   "cell_type": "code",
   "execution_count": 9,
   "id": "95409295",
   "metadata": {},
   "outputs": [
    {
     "data": {
      "application/vnd.microsoft.datawrangler.viewer.v0+json": {
       "columns": [
        {
         "name": "index",
         "rawType": "object",
         "type": "string"
        },
        {
         "name": "0",
         "rawType": "int64",
         "type": "integer"
        }
       ],
       "ref": "5e8dbd6e-427b-496c-81db-73bd9a71ad08",
       "rows": [
        [
         "age",
         "0"
        ],
        [
         "sex",
         "0"
        ],
        [
         "bmi",
         "0"
        ],
        [
         "children",
         "0"
        ],
        [
         "smoker",
         "0"
        ],
        [
         "region",
         "0"
        ],
        [
         "charges",
         "0"
        ]
       ],
       "shape": {
        "columns": 1,
        "rows": 7
       }
      },
      "text/plain": [
       "age         0\n",
       "sex         0\n",
       "bmi         0\n",
       "children    0\n",
       "smoker      0\n",
       "region      0\n",
       "charges     0\n",
       "dtype: int64"
      ]
     },
     "execution_count": 9,
     "metadata": {},
     "output_type": "execute_result"
    }
   ],
   "source": [
    "df.isnull().sum()"
   ]
  },
  {
   "cell_type": "code",
   "execution_count": 10,
   "id": "5d594ae3",
   "metadata": {},
   "outputs": [
    {
     "data": {
      "text/plain": [
       "Index(['age', 'sex', 'bmi', 'children', 'smoker', 'region', 'charges'], dtype='object')"
      ]
     },
     "execution_count": 10,
     "metadata": {},
     "output_type": "execute_result"
    }
   ],
   "source": [
    "df.columns"
   ]
  },
  {
   "cell_type": "code",
   "execution_count": 11,
   "id": "fbb4d704",
   "metadata": {},
   "outputs": [
    {
     "data": {
      "image/png": "[encoded data removed]",
      "text/plain": [
       "<Figure size 640x480 with 1 Axes>"
      ]
     },
     "metadata": {},
     "output_type": "display_data"
    },
    {
     "data": {
      "image/png": "[encoded data removed]",
      "text/plain": [
       "<Figure size 640x480 with 1 Axes>"
      ]
     },
     "metadata": {},
     "output_type": "display_data"
    },
    {
     "data": {
      "image/png": "[encoded data removed]",
      "text/plain": [
       "<Figure size 640x480 with 1 Axes>"
      ]
     },
     "metadata": {},
     "output_type": "display_data"
    },
    {
     "data": {
      "image/png": "[encoded data removed]",
      "text/plain": [
       "<Figure size 640x480 with 1 Axes>"
      ]
     },
     "metadata": {},
     "output_type": "display_data"
    }
   ],
   "source": [
    "numeric_columns = ['age', 'bmi', 'children', 'charges']\n",
    "\n",
    "for col in numeric_columns:\n",
    "    plt.Figure(figsize=(6, 5))\n",
    "    sns.histplot(df[col], kde=True)\n",
    "    plt.title(f'Distribution of {col}')\n",
    "    plt.xlabel(col)\n",
    "    plt.ylabel('Frequency')\n",
    "    plt.show()"
   ]
  },
  {
   "cell_type": "code",
   "execution_count": 12,
   "id": "6989ac1e",
   "metadata": {},
   "outputs": [
    {
     "data": {
      "text/plain": [
       "<Axes: xlabel='children', ylabel='count'>"
      ]
     },
     "execution_count": 12,
     "metadata": {},
     "output_type": "execute_result"
    },
    {
     "data": {
      "image/png": "[encoded data removed]",
      "text/plain": [
       "<Figure size 640x480 with 1 Axes>"
      ]
     },
     "metadata": {},
     "output_type": "display_data"
    }
   ],
   "source": [
    "sns.countplot(x = df[\"children\"], data = df)"
   ]
  },
  {
   "cell_type": "code",
   "execution_count": 13,
   "id": "50b313ea",
   "metadata": {},
   "outputs": [
    {
     "data": {
      "text/plain": [
       "<Axes: xlabel='sex', ylabel='count'>"
      ]
     },
     "execution_count": 13,
     "metadata": {},
     "output_type": "execute_result"
    },
    {
     "data": {
      "image/png": "[encoded data removed]",
      "text/plain": [
       "<Figure size 640x480 with 1 Axes>"
      ]
     },
     "metadata": {},
     "output_type": "display_data"
    }
   ],
   "source": [
    "sns.countplot(x = df[\"sex\"], data = df)"
   ]
  },
  {
   "cell_type": "code",
   "execution_count": 14,
   "id": "541eb6cc",
   "metadata": {},
   "outputs": [
    {
     "data": {
      "text/plain": [
       "<Axes: xlabel='smoker', ylabel='count'>"
      ]
     },
     "execution_count": 14,
     "metadata": {},
     "output_type": "execute_result"
    },
    {
     "data": {
      "image/png": "[encoded data removed]",
      "text/plain": [
       "<Figure size 640x480 with 1 Axes>"
      ]
     },
     "metadata": {},
     "output_type": "display_data"
    }
   ],
   "source": [
    "sns.countplot(x = df[\"smoker\"], data = df)"
   ]
  },
  {
   "cell_type": "code",
   "execution_count": 15,
   "id": "509a0af7",
   "metadata": {},
   "outputs": [
    {
     "data": {
      "image/png": "[encoded data removed]",
      "text/plain": [
       "<Figure size 600x500 with 1 Axes>"
      ]
     },
     "metadata": {},
     "output_type": "display_data"
    },
    {
     "data": {
      "image/png": "[encoded data removed]",
      "text/plain": [
       "<Figure size 600x500 with 1 Axes>"
      ]
     },
     "metadata": {},
     "output_type": "display_data"
    },
    {
     "data": {
      "image/png": "[encoded data removed]",
      "text/plain": [
       "<Figure size 600x500 with 1 Axes>"
      ]
     },
     "metadata": {},
     "output_type": "display_data"
    },
    {
     "data": {
      "image/png": "[encoded data removed]",
      "text/plain": [
       "<Figure size 600x500 with 1 Axes>"
      ]
     },
     "metadata": {},
     "output_type": "display_data"
    }
   ],
   "source": [
    "for col in numeric_columns:\n",
    "    plt.figure(figsize=(6,5))\n",
    "    sns.boxplot(x=df[col])\n",
    "    plt.title(f'Boxplot of {col}')\n",
    "    plt.xlabel(col)\n",
    "    plt.show()"
   ]
  },
  {
   "cell_type": "code",
   "execution_count": 16,
   "id": "104e62fa",
   "metadata": {},
   "outputs": [
    {
     "data": {
      "text/plain": [
       "<Axes: >"
      ]
     },
     "execution_count": 16,
     "metadata": {},
     "output_type": "execute_result"
    },
    {
     "data": {
      "image/png": "[encoded data removed]",
      "text/plain": [
       "<Figure size 800x600 with 2 Axes>"
      ]
     },
     "metadata": {},
     "output_type": "display_data"
    }
   ],
   "source": [
    "plt.figure(figsize=(8, 6))\n",
    "sns.heatmap(df.corr(numeric_only=True), annot=True, cmap='coolwarm', fmt='.2f')"
   ]
  },
  {
   "cell_type": "markdown",
   "id": "cc654660",
   "metadata": {},
   "source": [
    "## **Data Cleaning and Preprocessing** "
   ]
  },
  {
   "cell_type": "code",
   "execution_count": 17,
   "id": "987a0371",
   "metadata": {},
   "outputs": [],
   "source": [
    "df_cleaned = df.copy()"
   ]
  },
  {
   "cell_type": "code",
   "execution_count": 18,
   "id": "4e5f271d",
   "metadata": {},
   "outputs": [
    {
     "data": {
      "application/vnd.microsoft.datawrangler.viewer.v0+json": {
       "columns": [
        {
         "name": "index",
         "rawType": "int64",
         "type": "integer"
        },
        {
         "name": "age",
         "rawType": "int64",
         "type": "integer"
        },
        {
         "name": "sex",
         "rawType": "object",
         "type": "string"
        },
        {
         "name": "bmi",
         "rawType": "float64",
         "type": "float"
        },
        {
         "name": "children",
         "rawType": "int64",
         "type": "integer"
        },
        {
         "name": "smoker",
         "rawType": "object",
         "type": "string"
        },
        {
         "name": "region",
         "rawType": "object",
         "type": "string"
        },
        {
         "name": "charges",
         "rawType": "float64",
         "type": "float"
        }
       ],
       "ref": "b2876eeb-38d5-4ce4-92fd-3f14a9214a94",
       "rows": [
        [
         "0",
         "19",
         "female",
         "27.9",
         "0",
         "yes",
         "southwest",
         "16884.924"
        ],
        [
         "1",
         "18",
         "male",
         "33.77",
         "1",
         "no",
         "southeast",
         "1725.5523"
        ],
        [
         "2",
         "28",
         "male",
         "33.0",
         "3",
         "no",
         "southeast",
         "4449.462"
        ],
        [
         "3",
         "33",
         "male",
         "22.705",
         "0",
         "no",
         "northwest",
         "21984.47061"
        ],
        [
         "4",
         "32",
         "male",
         "28.88",
         "0",
         "no",
         "northwest",
         "3866.8552"
        ]
       ],
       "shape": {
        "columns": 7,
        "rows": 5
       }
      },
      "text/html": [
       "<div>\n",
       "<style scoped>\n",
       "    .dataframe tbody tr th:only-of-type {\n",
       "        vertical-align: middle;\n",
       "    }\n",
       "\n",
       "    .dataframe tbody tr th {\n",
       "        vertical-align: top;\n",
       "    }\n",
       "\n",
       "    .dataframe thead th {\n",
       "        text-align: right;\n",
       "    }\n",
       "</style>\n",
       "<table border=\"1\" class=\"dataframe\">\n",
       "  <thead>\n",
       "    <tr style=\"text-align: right;\">\n",
       "      <th></th>\n",
       "      <th>age</th>\n",
       "      <th>sex</th>\n",
       "      <th>bmi</th>\n",
       "      <th>children</th>\n",
       "      <th>smoker</th>\n",
       "      <th>region</th>\n",
       "      <th>charges</th>\n",
       "    </tr>\n",
       "  </thead>\n",
       "  <tbody>\n",
       "    <tr>\n",
       "      <th>0</th>\n",
       "      <td>19</td>\n",
       "      <td>female</td>\n",
       "      <td>27.900</td>\n",
       "      <td>0</td>\n",
       "      <td>yes</td>\n",
       "      <td>southwest</td>\n",
       "      <td>16884.92400</td>\n",
       "    </tr>\n",
       "    <tr>\n",
       "      <th>1</th>\n",
       "      <td>18</td>\n",
       "      <td>male</td>\n",
       "      <td>33.770</td>\n",
       "      <td>1</td>\n",
       "      <td>no</td>\n",
       "      <td>southeast</td>\n",
       "      <td>1725.55230</td>\n",
       "    </tr>\n",
       "    <tr>\n",
       "      <th>2</th>\n",
       "      <td>28</td>\n",
       "      <td>male</td>\n",
       "      <td>33.000</td>\n",
       "      <td>3</td>\n",
       "      <td>no</td>\n",
       "      <td>southeast</td>\n",
       "      <td>4449.46200</td>\n",
       "    </tr>\n",
       "    <tr>\n",
       "      <th>3</th>\n",
       "      <td>33</td>\n",
       "      <td>male</td>\n",
       "      <td>22.705</td>\n",
       "      <td>0</td>\n",
       "      <td>no</td>\n",
       "      <td>northwest</td>\n",
       "      <td>21984.47061</td>\n",
       "    </tr>\n",
       "    <tr>\n",
       "      <th>4</th>\n",
       "      <td>32</td>\n",
       "      <td>male</td>\n",
       "      <td>28.880</td>\n",
       "      <td>0</td>\n",
       "      <td>no</td>\n",
       "      <td>northwest</td>\n",
       "      <td>3866.85520</td>\n",
       "    </tr>\n",
       "  </tbody>\n",
       "</table>\n",
       "</div>"
      ],
      "text/plain": [
       "   age     sex     bmi  children smoker     region      charges\n",
       "0   19  female  27.900         0    yes  southwest  16884.92400\n",
       "1   18    male  33.770         1     no  southeast   1725.55230\n",
       "2   28    male  33.000         3     no  southeast   4449.46200\n",
       "3   33    male  22.705         0     no  northwest  21984.47061\n",
       "4   32    male  28.880         0     no  northwest   3866.85520"
      ]
     },
     "execution_count": 18,
     "metadata": {},
     "output_type": "execute_result"
    }
   ],
   "source": [
    "df_cleaned.head()"
   ]
  },
  {
   "cell_type": "code",
   "execution_count": 19,
   "id": "229456f6",
   "metadata": {},
   "outputs": [
    {
     "data": {
      "text/plain": [
       "(1338, 7)"
      ]
     },
     "execution_count": 19,
     "metadata": {},
     "output_type": "execute_result"
    }
   ],
   "source": [
    "df_cleaned.shape"
   ]
  },
  {
   "cell_type": "code",
   "execution_count": 20,
   "id": "55d512fb",
   "metadata": {},
   "outputs": [],
   "source": [
    "df_cleaned.drop_duplicates(inplace=True) "
   ]
  },
  {
   "cell_type": "code",
   "execution_count": 21,
   "id": "d53f2cc5",
   "metadata": {},
   "outputs": [
    {
     "data": {
      "text/plain": [
       "(1337, 7)"
      ]
     },
     "execution_count": 21,
     "metadata": {},
     "output_type": "execute_result"
    }
   ],
   "source": [
    "df_cleaned.shape"
   ]
  },
  {
   "cell_type": "code",
   "execution_count": 22,
   "id": "b7997a4f",
   "metadata": {},
   "outputs": [
    {
     "data": {
      "application/vnd.microsoft.datawrangler.viewer.v0+json": {
       "columns": [
        {
         "name": "index",
         "rawType": "object",
         "type": "string"
        },
        {
         "name": "0",
         "rawType": "int64",
         "type": "integer"
        }
       ],
       "ref": "bff11194-8470-4c58-a74a-dd6067fa57fb",
       "rows": [
        [
         "age",
         "0"
        ],
        [
         "sex",
         "0"
        ],
        [
         "bmi",
         "0"
        ],
        [
         "children",
         "0"
        ],
        [
         "smoker",
         "0"
        ],
        [
         "region",
         "0"
        ],
        [
         "charges",
         "0"
        ]
       ],
       "shape": {
        "columns": 1,
        "rows": 7
       }
      },
      "text/plain": [
       "age         0\n",
       "sex         0\n",
       "bmi         0\n",
       "children    0\n",
       "smoker      0\n",
       "region      0\n",
       "charges     0\n",
       "dtype: int64"
      ]
     },
     "execution_count": 22,
     "metadata": {},
     "output_type": "execute_result"
    }
   ],
   "source": [
    "df_cleaned.isnull().sum()"
   ]
  },
  {
   "cell_type": "code",
   "execution_count": 23,
   "id": "42ec52a7",
   "metadata": {},
   "outputs": [
    {
     "data": {
      "application/vnd.microsoft.datawrangler.viewer.v0+json": {
       "columns": [
        {
         "name": "index",
         "rawType": "object",
         "type": "string"
        },
        {
         "name": "0",
         "rawType": "object",
         "type": "unknown"
        }
       ],
       "ref": "0e084247-adbb-444c-8393-37f200ebfcb4",
       "rows": [
        [
         "age",
         "int64"
        ],
        [
         "sex",
         "object"
        ],
        [
         "bmi",
         "float64"
        ],
        [
         "children",
         "int64"
        ],
        [
         "smoker",
         "object"
        ],
        [
         "region",
         "object"
        ],
        [
         "charges",
         "float64"
        ]
       ],
       "shape": {
        "columns": 1,
        "rows": 7
       }
      },
      "text/plain": [
       "age           int64\n",
       "sex          object\n",
       "bmi         float64\n",
       "children      int64\n",
       "smoker       object\n",
       "region       object\n",
       "charges     float64\n",
       "dtype: object"
      ]
     },
     "execution_count": 23,
     "metadata": {},
     "output_type": "execute_result"
    }
   ],
   "source": [
    "df_cleaned.dtypes"
   ]
  },
  {
   "cell_type": "code",
   "execution_count": 24,
   "id": "999b766c",
   "metadata": {},
   "outputs": [
    {
     "data": {
      "application/vnd.microsoft.datawrangler.viewer.v0+json": {
       "columns": [
        {
         "name": "sex",
         "rawType": "object",
         "type": "string"
        },
        {
         "name": "count",
         "rawType": "int64",
         "type": "integer"
        }
       ],
       "ref": "cf83497d-4dec-4a5d-9191-01c09535aeef",
       "rows": [
        [
         "male",
         "675"
        ],
        [
         "female",
         "662"
        ]
       ],
       "shape": {
        "columns": 1,
        "rows": 2
       }
      },
      "text/plain": [
       "sex\n",
       "male      675\n",
       "female    662\n",
       "Name: count, dtype: int64"
      ]
     },
     "execution_count": 24,
     "metadata": {},
     "output_type": "execute_result"
    }
   ],
   "source": [
    "df_cleaned[\"sex\"].value_counts()"
   ]
  },
  {
   "cell_type": "code",
   "execution_count": 25,
   "id": "82d1d732",
   "metadata": {},
   "outputs": [],
   "source": [
    "# Label Encoding\n",
    "df_cleaned[\"sex\"] = df_cleaned[\"sex\"].map({\"male\":0,\"female\":1})"
   ]
  },
  {
   "cell_type": "code",
   "execution_count": 26,
   "id": "99f461e3",
   "metadata": {},
   "outputs": [
    {
     "data": {
      "application/vnd.microsoft.datawrangler.viewer.v0+json": {
       "columns": [
        {
         "name": "index",
         "rawType": "int64",
         "type": "integer"
        },
        {
         "name": "age",
         "rawType": "int64",
         "type": "integer"
        },
        {
         "name": "sex",
         "rawType": "int64",
         "type": "integer"
        },
        {
         "name": "bmi",
         "rawType": "float64",
         "type": "float"
        },
        {
         "name": "children",
         "rawType": "int64",
         "type": "integer"
        },
        {
         "name": "smoker",
         "rawType": "object",
         "type": "string"
        },
        {
         "name": "region",
         "rawType": "object",
         "type": "string"
        },
        {
         "name": "charges",
         "rawType": "float64",
         "type": "float"
        }
       ],
       "ref": "03b755a8-f520-4d92-a35b-138dc12ee135",
       "rows": [
        [
         "0",
         "19",
         "1",
         "27.9",
         "0",
         "yes",
         "southwest",
         "16884.924"
        ],
        [
         "1",
         "18",
         "0",
         "33.77",
         "1",
         "no",
         "southeast",
         "1725.5523"
        ],
        [
         "2",
         "28",
         "0",
         "33.0",
         "3",
         "no",
         "southeast",
         "4449.462"
        ],
        [
         "3",
         "33",
         "0",
         "22.705",
         "0",
         "no",
         "northwest",
         "21984.47061"
        ],
        [
         "4",
         "32",
         "0",
         "28.88",
         "0",
         "no",
         "northwest",
         "3866.8552"
        ]
       ],
       "shape": {
        "columns": 7,
        "rows": 5
       }
      },
      "text/html": [
       "<div>\n",
       "<style scoped>\n",
       "    .dataframe tbody tr th:only-of-type {\n",
       "        vertical-align: middle;\n",
       "    }\n",
       "\n",
       "    .dataframe tbody tr th {\n",
       "        vertical-align: top;\n",
       "    }\n",
       "\n",
       "    .dataframe thead th {\n",
       "        text-align: right;\n",
       "    }\n",
       "</style>\n",
       "<table border=\"1\" class=\"dataframe\">\n",
       "  <thead>\n",
       "    <tr style=\"text-align: right;\">\n",
       "      <th></th>\n",
       "      <th>age</th>\n",
       "      <th>sex</th>\n",
       "      <th>bmi</th>\n",
       "      <th>children</th>\n",
       "      <th>smoker</th>\n",
       "      <th>region</th>\n",
       "      <th>charges</th>\n",
       "    </tr>\n",
       "  </thead>\n",
       "  <tbody>\n",
       "    <tr>\n",
       "      <th>0</th>\n",
       "      <td>19</td>\n",
       "      <td>1</td>\n",
       "      <td>27.900</td>\n",
       "      <td>0</td>\n",
       "      <td>yes</td>\n",
       "      <td>southwest</td>\n",
       "      <td>16884.92400</td>\n",
       "    </tr>\n",
       "    <tr>\n",
       "      <th>1</th>\n",
       "      <td>18</td>\n",
       "      <td>0</td>\n",
       "      <td>33.770</td>\n",
       "      <td>1</td>\n",
       "      <td>no</td>\n",
       "      <td>southeast</td>\n",
       "      <td>1725.55230</td>\n",
       "    </tr>\n",
       "    <tr>\n",
       "      <th>2</th>\n",
       "      <td>28</td>\n",
       "      <td>0</td>\n",
       "      <td>33.000</td>\n",
       "      <td>3</td>\n",
       "      <td>no</td>\n",
       "      <td>southeast</td>\n",
       "      <td>4449.46200</td>\n",
       "    </tr>\n",
       "    <tr>\n",
       "      <th>3</th>\n",
       "      <td>33</td>\n",
       "      <td>0</td>\n",
       "      <td>22.705</td>\n",
       "      <td>0</td>\n",
       "      <td>no</td>\n",
       "      <td>northwest</td>\n",
       "      <td>21984.47061</td>\n",
       "    </tr>\n",
       "    <tr>\n",
       "      <th>4</th>\n",
       "      <td>32</td>\n",
       "      <td>0</td>\n",
       "      <td>28.880</td>\n",
       "      <td>0</td>\n",
       "      <td>no</td>\n",
       "      <td>northwest</td>\n",
       "      <td>3866.85520</td>\n",
       "    </tr>\n",
       "  </tbody>\n",
       "</table>\n",
       "</div>"
      ],
      "text/plain": [
       "   age  sex     bmi  children smoker     region      charges\n",
       "0   19    1  27.900         0    yes  southwest  16884.92400\n",
       "1   18    0  33.770         1     no  southeast   1725.55230\n",
       "2   28    0  33.000         3     no  southeast   4449.46200\n",
       "3   33    0  22.705         0     no  northwest  21984.47061\n",
       "4   32    0  28.880         0     no  northwest   3866.85520"
      ]
     },
     "execution_count": 26,
     "metadata": {},
     "output_type": "execute_result"
    }
   ],
   "source": [
    "df_cleaned.head()"
   ]
  },
  {
   "cell_type": "code",
   "execution_count": 27,
   "id": "62eb670d",
   "metadata": {},
   "outputs": [
    {
     "data": {
      "application/vnd.microsoft.datawrangler.viewer.v0+json": {
       "columns": [
        {
         "name": "smoker",
         "rawType": "object",
         "type": "string"
        },
        {
         "name": "count",
         "rawType": "int64",
         "type": "integer"
        }
       ],
       "ref": "5d68247f-e006-4195-a169-98c678a0e932",
       "rows": [
        [
         "no",
         "1063"
        ],
        [
         "yes",
         "274"
        ]
       ],
       "shape": {
        "columns": 1,
        "rows": 2
       }
      },
      "text/plain": [
       "smoker\n",
       "no     1063\n",
       "yes     274\n",
       "Name: count, dtype: int64"
      ]
     },
     "execution_count": 27,
     "metadata": {},
     "output_type": "execute_result"
    }
   ],
   "source": [
    "df_cleaned[\"smoker\"].value_counts()"
   ]
  },
  {
   "cell_type": "code",
   "execution_count": 28,
   "id": "b04bf6d7",
   "metadata": {},
   "outputs": [],
   "source": [
    "# Label Encoding\n",
    "df_cleaned[\"smoker\"] = df_cleaned[\"smoker\"].map({\"yes\":1,\"no\":0})"
   ]
  },
  {
   "cell_type": "code",
   "execution_count": 29,
   "id": "5d1991c6",
   "metadata": {},
   "outputs": [
    {
     "data": {
      "application/vnd.microsoft.datawrangler.viewer.v0+json": {
       "columns": [
        {
         "name": "index",
         "rawType": "int64",
         "type": "integer"
        },
        {
         "name": "age",
         "rawType": "int64",
         "type": "integer"
        },
        {
         "name": "sex",
         "rawType": "int64",
         "type": "integer"
        },
        {
         "name": "bmi",
         "rawType": "float64",
         "type": "float"
        },
        {
         "name": "children",
         "rawType": "int64",
         "type": "integer"
        },
        {
         "name": "smoker",
         "rawType": "int64",
         "type": "integer"
        },
        {
         "name": "region",
         "rawType": "object",
         "type": "string"
        },
        {
         "name": "charges",
         "rawType": "float64",
         "type": "float"
        }
       ],
       "ref": "98bb397c-e321-463f-b60a-026ebbf0cf1b",
       "rows": [
        [
         "0",
         "19",
         "1",
         "27.9",
         "0",
         "1",
         "southwest",
         "16884.924"
        ],
        [
         "1",
         "18",
         "0",
         "33.77",
         "1",
         "0",
         "southeast",
         "1725.5523"
        ],
        [
         "2",
         "28",
         "0",
         "33.0",
         "3",
         "0",
         "southeast",
         "4449.462"
        ],
        [
         "3",
         "33",
         "0",
         "22.705",
         "0",
         "0",
         "northwest",
         "21984.47061"
        ],
        [
         "4",
         "32",
         "0",
         "28.88",
         "0",
         "0",
         "northwest",
         "3866.8552"
        ]
       ],
       "shape": {
        "columns": 7,
        "rows": 5
       }
      },
      "text/html": [
       "<div>\n",
       "<style scoped>\n",
       "    .dataframe tbody tr th:only-of-type {\n",
       "        vertical-align: middle;\n",
       "    }\n",
       "\n",
       "    .dataframe tbody tr th {\n",
       "        vertical-align: top;\n",
       "    }\n",
       "\n",
       "    .dataframe thead th {\n",
       "        text-align: right;\n",
       "    }\n",
       "</style>\n",
       "<table border=\"1\" class=\"dataframe\">\n",
       "  <thead>\n",
       "    <tr style=\"text-align: right;\">\n",
       "      <th></th>\n",
       "      <th>age</th>\n",
       "      <th>sex</th>\n",
       "      <th>bmi</th>\n",
       "      <th>children</th>\n",
       "      <th>smoker</th>\n",
       "      <th>region</th>\n",
       "      <th>charges</th>\n",
       "    </tr>\n",
       "  </thead>\n",
       "  <tbody>\n",
       "    <tr>\n",
       "      <th>0</th>\n",
       "      <td>19</td>\n",
       "      <td>1</td>\n",
       "      <td>27.900</td>\n",
       "      <td>0</td>\n",
       "      <td>1</td>\n",
       "      <td>southwest</td>\n",
       "      <td>16884.92400</td>\n",
       "    </tr>\n",
       "    <tr>\n",
       "      <th>1</th>\n",
       "      <td>18</td>\n",
       "      <td>0</td>\n",
       "      <td>33.770</td>\n",
       "      <td>1</td>\n",
       "      <td>0</td>\n",
       "      <td>southeast</td>\n",
       "      <td>1725.55230</td>\n",
       "    </tr>\n",
       "    <tr>\n",
       "      <th>2</th>\n",
       "      <td>28</td>\n",
       "      <td>0</td>\n",
       "      <td>33.000</td>\n",
       "      <td>3</td>\n",
       "      <td>0</td>\n",
       "      <td>southeast</td>\n",
       "      <td>4449.46200</td>\n",
       "    </tr>\n",
       "    <tr>\n",
       "      <th>3</th>\n",
       "      <td>33</td>\n",
       "      <td>0</td>\n",
       "      <td>22.705</td>\n",
       "      <td>0</td>\n",
       "      <td>0</td>\n",
       "      <td>northwest</td>\n",
       "      <td>21984.47061</td>\n",
       "    </tr>\n",
       "    <tr>\n",
       "      <th>4</th>\n",
       "      <td>32</td>\n",
       "      <td>0</td>\n",
       "      <td>28.880</td>\n",
       "      <td>0</td>\n",
       "      <td>0</td>\n",
       "      <td>northwest</td>\n",
       "      <td>3866.85520</td>\n",
       "    </tr>\n",
       "  </tbody>\n",
       "</table>\n",
       "</div>"
      ],
      "text/plain": [
       "   age  sex     bmi  children  smoker     region      charges\n",
       "0   19    1  27.900         0       1  southwest  16884.92400\n",
       "1   18    0  33.770         1       0  southeast   1725.55230\n",
       "2   28    0  33.000         3       0  southeast   4449.46200\n",
       "3   33    0  22.705         0       0  northwest  21984.47061\n",
       "4   32    0  28.880         0       0  northwest   3866.85520"
      ]
     },
     "execution_count": 29,
     "metadata": {},
     "output_type": "execute_result"
    }
   ],
   "source": [
    "df_cleaned.head()"
   ]
  },
  {
   "cell_type": "code",
   "execution_count": 30,
   "id": "faf30e26",
   "metadata": {},
   "outputs": [],
   "source": [
    "df_cleaned.rename(columns={\"sex\":\"is_female\",\"smoker\":\"is_smoker\"}, inplace=True)"
   ]
  },
  {
   "cell_type": "code",
   "execution_count": 31,
   "id": "fba3bf3a",
   "metadata": {},
   "outputs": [
    {
     "data": {
      "application/vnd.microsoft.datawrangler.viewer.v0+json": {
       "columns": [
        {
         "name": "index",
         "rawType": "int64",
         "type": "integer"
        },
        {
         "name": "age",
         "rawType": "int64",
         "type": "integer"
        },
        {
         "name": "is_female",
         "rawType": "int64",
         "type": "integer"
        },
        {
         "name": "bmi",
         "rawType": "float64",
         "type": "float"
        },
        {
         "name": "children",
         "rawType": "int64",
         "type": "integer"
        },
        {
         "name": "is_smoker",
         "rawType": "int64",
         "type": "integer"
        },
        {
         "name": "region",
         "rawType": "object",
         "type": "string"
        },
        {
         "name": "charges",
         "rawType": "float64",
         "type": "float"
        }
       ],
       "ref": "812bf401-506d-470a-8486-e58f9594f1b6",
       "rows": [
        [
         "0",
         "19",
         "1",
         "27.9",
         "0",
         "1",
         "southwest",
         "16884.924"
        ],
        [
         "1",
         "18",
         "0",
         "33.77",
         "1",
         "0",
         "southeast",
         "1725.5523"
        ],
        [
         "2",
         "28",
         "0",
         "33.0",
         "3",
         "0",
         "southeast",
         "4449.462"
        ],
        [
         "3",
         "33",
         "0",
         "22.705",
         "0",
         "0",
         "northwest",
         "21984.47061"
        ],
        [
         "4",
         "32",
         "0",
         "28.88",
         "0",
         "0",
         "northwest",
         "3866.8552"
        ]
       ],
       "shape": {
        "columns": 7,
        "rows": 5
       }
      },
      "text/html": [
       "<div>\n",
       "<style scoped>\n",
       "    .dataframe tbody tr th:only-of-type {\n",
       "        vertical-align: middle;\n",
       "    }\n",
       "\n",
       "    .dataframe tbody tr th {\n",
       "        vertical-align: top;\n",
       "    }\n",
       "\n",
       "    .dataframe thead th {\n",
       "        text-align: right;\n",
       "    }\n",
       "</style>\n",
       "<table border=\"1\" class=\"dataframe\">\n",
       "  <thead>\n",
       "    <tr style=\"text-align: right;\">\n",
       "      <th></th>\n",
       "      <th>age</th>\n",
       "      <th>is_female</th>\n",
       "      <th>bmi</th>\n",
       "      <th>children</th>\n",
       "      <th>is_smoker</th>\n",
       "      <th>region</th>\n",
       "      <th>charges</th>\n",
       "    </tr>\n",
       "  </thead>\n",
       "  <tbody>\n",
       "    <tr>\n",
       "      <th>0</th>\n",
       "      <td>19</td>\n",
       "      <td>1</td>\n",
       "      <td>27.900</td>\n",
       "      <td>0</td>\n",
       "      <td>1</td>\n",
       "      <td>southwest</td>\n",
       "      <td>16884.92400</td>\n",
       "    </tr>\n",
       "    <tr>\n",
       "      <th>1</th>\n",
       "      <td>18</td>\n",
       "      <td>0</td>\n",
       "      <td>33.770</td>\n",
       "      <td>1</td>\n",
       "      <td>0</td>\n",
       "      <td>southeast</td>\n",
       "      <td>1725.55230</td>\n",
       "    </tr>\n",
       "    <tr>\n",
       "      <th>2</th>\n",
       "      <td>28</td>\n",
       "      <td>0</td>\n",
       "      <td>33.000</td>\n",
       "      <td>3</td>\n",
       "      <td>0</td>\n",
       "      <td>southeast</td>\n",
       "      <td>4449.46200</td>\n",
       "    </tr>\n",
       "    <tr>\n",
       "      <th>3</th>\n",
       "      <td>33</td>\n",
       "      <td>0</td>\n",
       "      <td>22.705</td>\n",
       "      <td>0</td>\n",
       "      <td>0</td>\n",
       "      <td>northwest</td>\n",
       "      <td>21984.47061</td>\n",
       "    </tr>\n",
       "    <tr>\n",
       "      <th>4</th>\n",
       "      <td>32</td>\n",
       "      <td>0</td>\n",
       "      <td>28.880</td>\n",
       "      <td>0</td>\n",
       "      <td>0</td>\n",
       "      <td>northwest</td>\n",
       "      <td>3866.85520</td>\n",
       "    </tr>\n",
       "  </tbody>\n",
       "</table>\n",
       "</div>"
      ],
      "text/plain": [
       "   age  is_female     bmi  children  is_smoker     region      charges\n",
       "0   19          1  27.900         0          1  southwest  16884.92400\n",
       "1   18          0  33.770         1          0  southeast   1725.55230\n",
       "2   28          0  33.000         3          0  southeast   4449.46200\n",
       "3   33          0  22.705         0          0  northwest  21984.47061\n",
       "4   32          0  28.880         0          0  northwest   3866.85520"
      ]
     },
     "execution_count": 31,
     "metadata": {},
     "output_type": "execute_result"
    }
   ],
   "source": [
    "df_cleaned.head()"
   ]
  },
  {
   "cell_type": "code",
   "execution_count": 32,
   "id": "b986ffa6",
   "metadata": {},
   "outputs": [
    {
     "data": {
      "application/vnd.microsoft.datawrangler.viewer.v0+json": {
       "columns": [
        {
         "name": "region",
         "rawType": "object",
         "type": "string"
        },
        {
         "name": "count",
         "rawType": "int64",
         "type": "integer"
        }
       ],
       "ref": "26cbf670-d3cb-4fb8-8681-651a91844160",
       "rows": [
        [
         "southeast",
         "364"
        ],
        [
         "southwest",
         "325"
        ],
        [
         "northwest",
         "325"
        ],
        [
         "northeast",
         "324"
        ]
       ],
       "shape": {
        "columns": 1,
        "rows": 4
       }
      },
      "text/plain": [
       "region\n",
       "southeast    364\n",
       "southwest    325\n",
       "northwest    325\n",
       "northeast    324\n",
       "Name: count, dtype: int64"
      ]
     },
     "execution_count": 32,
     "metadata": {},
     "output_type": "execute_result"
    }
   ],
   "source": [
    "df[\"region\"].value_counts()"
   ]
  },
  {
   "cell_type": "code",
   "execution_count": 33,
   "id": "0e292aae",
   "metadata": {},
   "outputs": [],
   "source": [
    "# One-Hot Encoding\n",
    "df_cleaned = pd.get_dummies(df_cleaned, columns=[\"region\"], drop_first=True)"
   ]
  },
  {
   "cell_type": "code",
   "execution_count": 34,
   "id": "188117a7",
   "metadata": {},
   "outputs": [
    {
     "data": {
      "application/vnd.microsoft.datawrangler.viewer.v0+json": {
       "columns": [
        {
         "name": "index",
         "rawType": "int64",
         "type": "integer"
        },
        {
         "name": "age",
         "rawType": "int64",
         "type": "integer"
        },
        {
         "name": "is_female",
         "rawType": "int64",
         "type": "integer"
        },
        {
         "name": "bmi",
         "rawType": "float64",
         "type": "float"
        },
        {
         "name": "children",
         "rawType": "int64",
         "type": "integer"
        },
        {
         "name": "is_smoker",
         "rawType": "int64",
         "type": "integer"
        },
        {
         "name": "charges",
         "rawType": "float64",
         "type": "float"
        },
        {
         "name": "region_northwest",
         "rawType": "bool",
         "type": "boolean"
        },
        {
         "name": "region_southeast",
         "rawType": "bool",
         "type": "boolean"
        },
        {
         "name": "region_southwest",
         "rawType": "bool",
         "type": "boolean"
        }
       ],
       "ref": "259aa0cd-9827-4990-a863-e2716c449d4f",
       "rows": [
        [
         "0",
         "19",
         "1",
         "27.9",
         "0",
         "1",
         "16884.924",
         "False",
         "False",
         "True"
        ],
        [
         "1",
         "18",
         "0",
         "33.77",
         "1",
         "0",
         "1725.5523",
         "False",
         "True",
         "False"
        ],
        [
         "2",
         "28",
         "0",
         "33.0",
         "3",
         "0",
         "4449.462",
         "False",
         "True",
         "False"
        ],
        [
         "3",
         "33",
         "0",
         "22.705",
         "0",
         "0",
         "21984.47061",
         "True",
         "False",
         "False"
        ],
        [
         "4",
         "32",
         "0",
         "28.88",
         "0",
         "0",
         "3866.8552",
         "True",
         "False",
         "False"
        ]
       ],
       "shape": {
        "columns": 9,
        "rows": 5
       }
      },
      "text/html": [
       "<div>\n",
       "<style scoped>\n",
       "    .dataframe tbody tr th:only-of-type {\n",
       "        vertical-align: middle;\n",
       "    }\n",
       "\n",
       "    .dataframe tbody tr th {\n",
       "        vertical-align: top;\n",
       "    }\n",
       "\n",
       "    .dataframe thead th {\n",
       "        text-align: right;\n",
       "    }\n",
       "</style>\n",
       "<table border=\"1\" class=\"dataframe\">\n",
       "  <thead>\n",
       "    <tr style=\"text-align: right;\">\n",
       "      <th></th>\n",
       "      <th>age</th>\n",
       "      <th>is_female</th>\n",
       "      <th>bmi</th>\n",
       "      <th>children</th>\n",
       "      <th>is_smoker</th>\n",
       "      <th>charges</th>\n",
       "      <th>region_northwest</th>\n",
       "      <th>region_southeast</th>\n",
       "      <th>region_southwest</th>\n",
       "    </tr>\n",
       "  </thead>\n",
       "  <tbody>\n",
       "    <tr>\n",
       "      <th>0</th>\n",
       "      <td>19</td>\n",
       "      <td>1</td>\n",
       "      <td>27.900</td>\n",
       "      <td>0</td>\n",
       "      <td>1</td>\n",
       "      <td>16884.92400</td>\n",
       "      <td>False</td>\n",
       "      <td>False</td>\n",
       "      <td>True</td>\n",
       "    </tr>\n",
       "    <tr>\n",
       "      <th>1</th>\n",
       "      <td>18</td>\n",
       "      <td>0</td>\n",
       "      <td>33.770</td>\n",
       "      <td>1</td>\n",
       "      <td>0</td>\n",
       "      <td>1725.55230</td>\n",
       "      <td>False</td>\n",
       "      <td>True</td>\n",
       "      <td>False</td>\n",
       "    </tr>\n",
       "    <tr>\n",
       "      <th>2</th>\n",
       "      <td>28</td>\n",
       "      <td>0</td>\n",
       "      <td>33.000</td>\n",
       "      <td>3</td>\n",
       "      <td>0</td>\n",
       "      <td>4449.46200</td>\n",
       "      <td>False</td>\n",
       "      <td>True</td>\n",
       "      <td>False</td>\n",
       "    </tr>\n",
       "    <tr>\n",
       "      <th>3</th>\n",
       "      <td>33</td>\n",
       "      <td>0</td>\n",
       "      <td>22.705</td>\n",
       "      <td>0</td>\n",
       "      <td>0</td>\n",
       "      <td>21984.47061</td>\n",
       "      <td>True</td>\n",
       "      <td>False</td>\n",
       "      <td>False</td>\n",
       "    </tr>\n",
       "    <tr>\n",
       "      <th>4</th>\n",
       "      <td>32</td>\n",
       "      <td>0</td>\n",
       "      <td>28.880</td>\n",
       "      <td>0</td>\n",
       "      <td>0</td>\n",
       "      <td>3866.85520</td>\n",
       "      <td>True</td>\n",
       "      <td>False</td>\n",
       "      <td>False</td>\n",
       "    </tr>\n",
       "  </tbody>\n",
       "</table>\n",
       "</div>"
      ],
      "text/plain": [
       "   age  is_female     bmi  children  is_smoker      charges  region_northwest  \\\n",
       "0   19          1  27.900         0          1  16884.92400             False   \n",
       "1   18          0  33.770         1          0   1725.55230             False   \n",
       "2   28          0  33.000         3          0   4449.46200             False   \n",
       "3   33          0  22.705         0          0  21984.47061              True   \n",
       "4   32          0  28.880         0          0   3866.85520              True   \n",
       "\n",
       "   region_southeast  region_southwest  \n",
       "0             False              True  \n",
       "1              True             False  \n",
       "2              True             False  \n",
       "3             False             False  \n",
       "4             False             False  "
      ]
     },
     "execution_count": 34,
     "metadata": {},
     "output_type": "execute_result"
    }
   ],
   "source": [
    "df_cleaned.head()"
   ]
  },
  {
   "cell_type": "code",
   "execution_count": 35,
   "id": "a0df60e8",
   "metadata": {},
   "outputs": [],
   "source": [
    "df_cleaned = df_cleaned.astype(int)"
   ]
  },
  {
   "cell_type": "code",
   "execution_count": 36,
   "id": "e8c67724",
   "metadata": {},
   "outputs": [
    {
     "data": {
      "application/vnd.microsoft.datawrangler.viewer.v0+json": {
       "columns": [
        {
         "name": "index",
         "rawType": "int64",
         "type": "integer"
        },
        {
         "name": "age",
         "rawType": "int64",
         "type": "integer"
        },
        {
         "name": "is_female",
         "rawType": "int64",
         "type": "integer"
        },
        {
         "name": "bmi",
         "rawType": "int64",
         "type": "integer"
        },
        {
         "name": "children",
         "rawType": "int64",
         "type": "integer"
        },
        {
         "name": "is_smoker",
         "rawType": "int64",
         "type": "integer"
        },
        {
         "name": "charges",
         "rawType": "int64",
         "type": "integer"
        },
        {
         "name": "region_northwest",
         "rawType": "int64",
         "type": "integer"
        },
        {
         "name": "region_southeast",
         "rawType": "int64",
         "type": "integer"
        },
        {
         "name": "region_southwest",
         "rawType": "int64",
         "type": "integer"
        }
       ],
       "ref": "7781e276-352c-4625-9e09-efd9d200a8a0",
       "rows": [
        [
         "0",
         "19",
         "1",
         "27",
         "0",
         "1",
         "16884",
         "0",
         "0",
         "1"
        ],
        [
         "1",
         "18",
         "0",
         "33",
         "1",
         "0",
         "1725",
         "0",
         "1",
         "0"
        ],
        [
         "2",
         "28",
         "0",
         "33",
         "3",
         "0",
         "4449",
         "0",
         "1",
         "0"
        ],
        [
         "3",
         "33",
         "0",
         "22",
         "0",
         "0",
         "21984",
         "1",
         "0",
         "0"
        ],
        [
         "4",
         "32",
         "0",
         "28",
         "0",
         "0",
         "3866",
         "1",
         "0",
         "0"
        ]
       ],
       "shape": {
        "columns": 9,
        "rows": 5
       }
      },
      "text/html": [
       "<div>\n",
       "<style scoped>\n",
       "    .dataframe tbody tr th:only-of-type {\n",
       "        vertical-align: middle;\n",
       "    }\n",
       "\n",
       "    .dataframe tbody tr th {\n",
       "        vertical-align: top;\n",
       "    }\n",
       "\n",
       "    .dataframe thead th {\n",
       "        text-align: right;\n",
       "    }\n",
       "</style>\n",
       "<table border=\"1\" class=\"dataframe\">\n",
       "  <thead>\n",
       "    <tr style=\"text-align: right;\">\n",
       "      <th></th>\n",
       "      <th>age</th>\n",
       "      <th>is_female</th>\n",
       "      <th>bmi</th>\n",
       "      <th>children</th>\n",
       "      <th>is_smoker</th>\n",
       "      <th>charges</th>\n",
       "      <th>region_northwest</th>\n",
       "      <th>region_southeast</th>\n",
       "      <th>region_southwest</th>\n",
       "    </tr>\n",
       "  </thead>\n",
       "  <tbody>\n",
       "    <tr>\n",
       "      <th>0</th>\n",
       "      <td>19</td>\n",
       "      <td>1</td>\n",
       "      <td>27</td>\n",
       "      <td>0</td>\n",
       "      <td>1</td>\n",
       "      <td>16884</td>\n",
       "      <td>0</td>\n",
       "      <td>0</td>\n",
       "      <td>1</td>\n",
       "    </tr>\n",
       "    <tr>\n",
       "      <th>1</th>\n",
       "      <td>18</td>\n",
       "      <td>0</td>\n",
       "      <td>33</td>\n",
       "      <td>1</td>\n",
       "      <td>0</td>\n",
       "      <td>1725</td>\n",
       "      <td>0</td>\n",
       "      <td>1</td>\n",
       "      <td>0</td>\n",
       "    </tr>\n",
       "    <tr>\n",
       "      <th>2</th>\n",
       "      <td>28</td>\n",
       "      <td>0</td>\n",
       "      <td>33</td>\n",
       "      <td>3</td>\n",
       "      <td>0</td>\n",
       "      <td>4449</td>\n",
       "      <td>0</td>\n",
       "      <td>1</td>\n",
       "      <td>0</td>\n",
       "    </tr>\n",
       "    <tr>\n",
       "      <th>3</th>\n",
       "      <td>33</td>\n",
       "      <td>0</td>\n",
       "      <td>22</td>\n",
       "      <td>0</td>\n",
       "      <td>0</td>\n",
       "      <td>21984</td>\n",
       "      <td>1</td>\n",
       "      <td>0</td>\n",
       "      <td>0</td>\n",
       "    </tr>\n",
       "    <tr>\n",
       "      <th>4</th>\n",
       "      <td>32</td>\n",
       "      <td>0</td>\n",
       "      <td>28</td>\n",
       "      <td>0</td>\n",
       "      <td>0</td>\n",
       "      <td>3866</td>\n",
       "      <td>1</td>\n",
       "      <td>0</td>\n",
       "      <td>0</td>\n",
       "    </tr>\n",
       "  </tbody>\n",
       "</table>\n",
       "</div>"
      ],
      "text/plain": [
       "   age  is_female  bmi  children  is_smoker  charges  region_northwest  \\\n",
       "0   19          1   27         0          1    16884                 0   \n",
       "1   18          0   33         1          0     1725                 0   \n",
       "2   28          0   33         3          0     4449                 0   \n",
       "3   33          0   22         0          0    21984                 1   \n",
       "4   32          0   28         0          0     3866                 1   \n",
       "\n",
       "   region_southeast  region_southwest  \n",
       "0                 0                 1  \n",
       "1                 1                 0  \n",
       "2                 1                 0  \n",
       "3                 0                 0  \n",
       "4                 0                 0  "
      ]
     },
     "execution_count": 36,
     "metadata": {},
     "output_type": "execute_result"
    }
   ],
   "source": [
    "df_cleaned.head()"
   ]
  },
  {
   "cell_type": "code",
   "execution_count": 37,
   "id": "b3d537a7",
   "metadata": {},
   "outputs": [
    {
     "name": "stdout",
     "output_type": "stream",
     "text": [
      "<class 'pandas.core.frame.DataFrame'>\n",
      "Index: 1337 entries, 0 to 1337\n",
      "Data columns (total 9 columns):\n",
      " #   Column            Non-Null Count  Dtype\n",
      "---  ------            --------------  -----\n",
      " 0   age               1337 non-null   int64\n",
      " 1   is_female         1337 non-null   int64\n",
      " 2   bmi               1337 non-null   int64\n",
      " 3   children          1337 non-null   int64\n",
      " 4   is_smoker         1337 non-null   int64\n",
      " 5   charges           1337 non-null   int64\n",
      " 6   region_northwest  1337 non-null   int64\n",
      " 7   region_southeast  1337 non-null   int64\n",
      " 8   region_southwest  1337 non-null   int64\n",
      "dtypes: int64(9)\n",
      "memory usage: 104.5 KB\n"
     ]
    }
   ],
   "source": [
    "df_cleaned.info()"
   ]
  },
  {
   "cell_type": "markdown",
   "id": "7f8d3355",
   "metadata": {},
   "source": [
    "## **Feature Engineering and Feature Extraction**"
   ]
  },
  {
   "cell_type": "code",
   "execution_count": 38,
   "id": "8aead797",
   "metadata": {},
   "outputs": [
    {
     "data": {
      "application/vnd.microsoft.datawrangler.viewer.v0+json": {
       "columns": [
        {
         "name": "bmi",
         "rawType": "int64",
         "type": "integer"
        },
        {
         "name": "count",
         "rawType": "int64",
         "type": "integer"
        }
       ],
       "ref": "6c66d7c0-7a44-4a71-8a6e-49affa0ff5f9",
       "rows": [
        [
         "28",
         "92"
        ],
        [
         "30",
         "90"
        ],
        [
         "33",
         "82"
        ],
        [
         "27",
         "82"
        ],
        [
         "32",
         "78"
        ],
        [
         "31",
         "76"
        ],
        [
         "29",
         "73"
        ],
        [
         "25",
         "72"
        ],
        [
         "26",
         "67"
        ],
        [
         "34",
         "64"
        ],
        [
         "24",
         "57"
        ],
        [
         "35",
         "57"
        ],
        [
         "36",
         "55"
        ],
        [
         "23",
         "52"
        ],
        [
         "37",
         "42"
        ],
        [
         "22",
         "40"
        ],
        [
         "38",
         "36"
        ],
        [
         "39",
         "35"
        ],
        [
         "21",
         "32"
        ],
        [
         "20",
         "23"
        ],
        [
         "40",
         "23"
        ],
        [
         "41",
         "19"
        ],
        [
         "19",
         "17"
        ],
        [
         "42",
         "15"
        ],
        [
         "17",
         "12"
        ],
        [
         "18",
         "9"
        ],
        [
         "46",
         "7"
        ],
        [
         "44",
         "7"
        ],
        [
         "43",
         "7"
        ],
        [
         "45",
         "4"
        ],
        [
         "47",
         "4"
        ],
        [
         "16",
         "2"
        ],
        [
         "49",
         "1"
        ],
        [
         "15",
         "1"
        ],
        [
         "48",
         "1"
        ],
        [
         "50",
         "1"
        ],
        [
         "52",
         "1"
        ],
        [
         "53",
         "1"
        ]
       ],
       "shape": {
        "columns": 1,
        "rows": 38
       }
      },
      "text/plain": [
       "bmi\n",
       "28    92\n",
       "30    90\n",
       "33    82\n",
       "27    82\n",
       "32    78\n",
       "31    76\n",
       "29    73\n",
       "25    72\n",
       "26    67\n",
       "34    64\n",
       "24    57\n",
       "35    57\n",
       "36    55\n",
       "23    52\n",
       "37    42\n",
       "22    40\n",
       "38    36\n",
       "39    35\n",
       "21    32\n",
       "20    23\n",
       "40    23\n",
       "41    19\n",
       "19    17\n",
       "42    15\n",
       "17    12\n",
       "18     9\n",
       "46     7\n",
       "44     7\n",
       "43     7\n",
       "45     4\n",
       "47     4\n",
       "16     2\n",
       "49     1\n",
       "15     1\n",
       "48     1\n",
       "50     1\n",
       "52     1\n",
       "53     1\n",
       "Name: count, dtype: int64"
      ]
     },
     "execution_count": 38,
     "metadata": {},
     "output_type": "execute_result"
    }
   ],
   "source": [
    "df_cleaned[\"bmi\"].value_counts()"
   ]
  },
  {
   "cell_type": "code",
   "execution_count": 39,
   "id": "00c9359b",
   "metadata": {},
   "outputs": [
    {
     "data": {
      "text/plain": [
       "<Axes: xlabel='bmi', ylabel='Count'>"
      ]
     },
     "execution_count": 39,
     "metadata": {},
     "output_type": "execute_result"
    },
    {
     "data": {
      "image/png": "[encoded data removed]",
      "text/plain": [
       "<Figure size 640x480 with 1 Axes>"
      ]
     },
     "metadata": {},
     "output_type": "display_data"
    }
   ],
   "source": [
    "sns.histplot(df_cleaned[\"bmi\"], kde=True)"
   ]
  },
  {
   "cell_type": "code",
   "execution_count": 40,
   "id": "92a40a62",
   "metadata": {},
   "outputs": [],
   "source": [
    "df_cleaned[\"bmi_category\"] = pd.cut(\n",
    "    df_cleaned[\"bmi\"],\n",
    "    bins=[0, 18.5, 24.9, 29.9, float('inf')],\n",
    "    labels=[\"Underweight\", \"Normal\", \"Overweight\", \"Obese\"]\n",
    ")"
   ]
  },
  {
   "cell_type": "code",
   "execution_count": 41,
   "id": "5014308f",
   "metadata": {},
   "outputs": [
    {
     "data": {
      "application/vnd.microsoft.datawrangler.viewer.v0+json": {
       "columns": [
        {
         "name": "index",
         "rawType": "int64",
         "type": "integer"
        },
        {
         "name": "age",
         "rawType": "int64",
         "type": "integer"
        },
        {
         "name": "is_female",
         "rawType": "int64",
         "type": "integer"
        },
        {
         "name": "bmi",
         "rawType": "int64",
         "type": "integer"
        },
        {
         "name": "children",
         "rawType": "int64",
         "type": "integer"
        },
        {
         "name": "is_smoker",
         "rawType": "int64",
         "type": "integer"
        },
        {
         "name": "charges",
         "rawType": "int64",
         "type": "integer"
        },
        {
         "name": "region_northwest",
         "rawType": "int64",
         "type": "integer"
        },
        {
         "name": "region_southeast",
         "rawType": "int64",
         "type": "integer"
        },
        {
         "name": "region_southwest",
         "rawType": "int64",
         "type": "integer"
        },
        {
         "name": "bmi_category",
         "rawType": "category",
         "type": "unknown"
        }
       ],
       "ref": "aabd834c-f15c-4b8f-887e-535f7301c084",
       "rows": [
        [
         "0",
         "19",
         "1",
         "27",
         "0",
         "1",
         "16884",
         "0",
         "0",
         "1",
         "Overweight"
        ],
        [
         "1",
         "18",
         "0",
         "33",
         "1",
         "0",
         "1725",
         "0",
         "1",
         "0",
         "Obese"
        ],
        [
         "2",
         "28",
         "0",
         "33",
         "3",
         "0",
         "4449",
         "0",
         "1",
         "0",
         "Obese"
        ],
        [
         "3",
         "33",
         "0",
         "22",
         "0",
         "0",
         "21984",
         "1",
         "0",
         "0",
         "Normal"
        ],
        [
         "4",
         "32",
         "0",
         "28",
         "0",
         "0",
         "3866",
         "1",
         "0",
         "0",
         "Overweight"
        ]
       ],
       "shape": {
        "columns": 10,
        "rows": 5
       }
      },
      "text/html": [
       "<div>\n",
       "<style scoped>\n",
       "    .dataframe tbody tr th:only-of-type {\n",
       "        vertical-align: middle;\n",
       "    }\n",
       "\n",
       "    .dataframe tbody tr th {\n",
       "        vertical-align: top;\n",
       "    }\n",
       "\n",
       "    .dataframe thead th {\n",
       "        text-align: right;\n",
       "    }\n",
       "</style>\n",
       "<table border=\"1\" class=\"dataframe\">\n",
       "  <thead>\n",
       "    <tr style=\"text-align: right;\">\n",
       "      <th></th>\n",
       "      <th>age</th>\n",
       "      <th>is_female</th>\n",
       "      <th>bmi</th>\n",
       "      <th>children</th>\n",
       "      <th>is_smoker</th>\n",
       "      <th>charges</th>\n",
       "      <th>region_northwest</th>\n",
       "      <th>region_southeast</th>\n",
       "      <th>region_southwest</th>\n",
       "      <th>bmi_category</th>\n",
       "    </tr>\n",
       "  </thead>\n",
       "  <tbody>\n",
       "    <tr>\n",
       "      <th>0</th>\n",
       "      <td>19</td>\n",
       "      <td>1</td>\n",
       "      <td>27</td>\n",
       "      <td>0</td>\n",
       "      <td>1</td>\n",
       "      <td>16884</td>\n",
       "      <td>0</td>\n",
       "      <td>0</td>\n",
       "      <td>1</td>\n",
       "      <td>Overweight</td>\n",
       "    </tr>\n",
       "    <tr>\n",
       "      <th>1</th>\n",
       "      <td>18</td>\n",
       "      <td>0</td>\n",
       "      <td>33</td>\n",
       "      <td>1</td>\n",
       "      <td>0</td>\n",
       "      <td>1725</td>\n",
       "      <td>0</td>\n",
       "      <td>1</td>\n",
       "      <td>0</td>\n",
       "      <td>Obese</td>\n",
       "    </tr>\n",
       "    <tr>\n",
       "      <th>2</th>\n",
       "      <td>28</td>\n",
       "      <td>0</td>\n",
       "      <td>33</td>\n",
       "      <td>3</td>\n",
       "      <td>0</td>\n",
       "      <td>4449</td>\n",
       "      <td>0</td>\n",
       "      <td>1</td>\n",
       "      <td>0</td>\n",
       "      <td>Obese</td>\n",
       "    </tr>\n",
       "    <tr>\n",
       "      <th>3</th>\n",
       "      <td>33</td>\n",
       "      <td>0</td>\n",
       "      <td>22</td>\n",
       "      <td>0</td>\n",
       "      <td>0</td>\n",
       "      <td>21984</td>\n",
       "      <td>1</td>\n",
       "      <td>0</td>\n",
       "      <td>0</td>\n",
       "      <td>Normal</td>\n",
       "    </tr>\n",
       "    <tr>\n",
       "      <th>4</th>\n",
       "      <td>32</td>\n",
       "      <td>0</td>\n",
       "      <td>28</td>\n",
       "      <td>0</td>\n",
       "      <td>0</td>\n",
       "      <td>3866</td>\n",
       "      <td>1</td>\n",
       "      <td>0</td>\n",
       "      <td>0</td>\n",
       "      <td>Overweight</td>\n",
       "    </tr>\n",
       "  </tbody>\n",
       "</table>\n",
       "</div>"
      ],
      "text/plain": [
       "   age  is_female  bmi  children  is_smoker  charges  region_northwest  \\\n",
       "0   19          1   27         0          1    16884                 0   \n",
       "1   18          0   33         1          0     1725                 0   \n",
       "2   28          0   33         3          0     4449                 0   \n",
       "3   33          0   22         0          0    21984                 1   \n",
       "4   32          0   28         0          0     3866                 1   \n",
       "\n",
       "   region_southeast  region_southwest bmi_category  \n",
       "0                 0                 1   Overweight  \n",
       "1                 1                 0        Obese  \n",
       "2                 1                 0        Obese  \n",
       "3                 0                 0       Normal  \n",
       "4                 0                 0   Overweight  "
      ]
     },
     "execution_count": 41,
     "metadata": {},
     "output_type": "execute_result"
    }
   ],
   "source": [
    "df_cleaned.head()"
   ]
  },
  {
   "cell_type": "code",
   "execution_count": 42,
   "id": "c0db74a1",
   "metadata": {},
   "outputs": [
    {
     "data": {
      "application/vnd.microsoft.datawrangler.viewer.v0+json": {
       "columns": [
        {
         "name": "bmi_category",
         "rawType": "category",
         "type": "unknown"
        },
        {
         "name": "count",
         "rawType": "int64",
         "type": "integer"
        }
       ],
       "ref": "db0a1b98-2143-450a-8c07-dc87834c30cc",
       "rows": [
        [
         "Obese",
         "706"
        ],
        [
         "Overweight",
         "386"
        ],
        [
         "Normal",
         "221"
        ],
        [
         "Underweight",
         "24"
        ]
       ],
       "shape": {
        "columns": 1,
        "rows": 4
       }
      },
      "text/plain": [
       "bmi_category\n",
       "Obese          706\n",
       "Overweight     386\n",
       "Normal         221\n",
       "Underweight     24\n",
       "Name: count, dtype: int64"
      ]
     },
     "execution_count": 42,
     "metadata": {},
     "output_type": "execute_result"
    }
   ],
   "source": [
    "df_cleaned[\"bmi_category\"].value_counts()"
   ]
  },
  {
   "cell_type": "code",
   "execution_count": 43,
   "id": "e9cf4324",
   "metadata": {},
   "outputs": [],
   "source": [
    "# One-Hot Encoding\n",
    "df_cleaned = pd.get_dummies(df_cleaned, columns=[\"bmi_category\"], drop_first=True)"
   ]
  },
  {
   "cell_type": "code",
   "execution_count": 44,
   "id": "292aa1c1",
   "metadata": {},
   "outputs": [
    {
     "data": {
      "application/vnd.microsoft.datawrangler.viewer.v0+json": {
       "columns": [
        {
         "name": "index",
         "rawType": "int64",
         "type": "integer"
        },
        {
         "name": "age",
         "rawType": "int64",
         "type": "integer"
        },
        {
         "name": "is_female",
         "rawType": "int64",
         "type": "integer"
        },
        {
         "name": "bmi",
         "rawType": "int64",
         "type": "integer"
        },
        {
         "name": "children",
         "rawType": "int64",
         "type": "integer"
        },
        {
         "name": "is_smoker",
         "rawType": "int64",
         "type": "integer"
        },
        {
         "name": "charges",
         "rawType": "int64",
         "type": "integer"
        },
        {
         "name": "region_northwest",
         "rawType": "int64",
         "type": "integer"
        },
        {
         "name": "region_southeast",
         "rawType": "int64",
         "type": "integer"
        },
        {
         "name": "region_southwest",
         "rawType": "int64",
         "type": "integer"
        },
        {
         "name": "bmi_category_Normal",
         "rawType": "bool",
         "type": "boolean"
        },
        {
         "name": "bmi_category_Overweight",
         "rawType": "bool",
         "type": "boolean"
        },
        {
         "name": "bmi_category_Obese",
         "rawType": "bool",
         "type": "boolean"
        }
       ],
       "ref": "f7f3e89d-0e9a-43f7-8f1d-38c728845755",
       "rows": [
        [
         "0",
         "19",
         "1",
         "27",
         "0",
         "1",
         "16884",
         "0",
         "0",
         "1",
         "False",
         "True",
         "False"
        ],
        [
         "1",
         "18",
         "0",
         "33",
         "1",
         "0",
         "1725",
         "0",
         "1",
         "0",
         "False",
         "False",
         "True"
        ],
        [
         "2",
         "28",
         "0",
         "33",
         "3",
         "0",
         "4449",
         "0",
         "1",
         "0",
         "False",
         "False",
         "True"
        ],
        [
         "3",
         "33",
         "0",
         "22",
         "0",
         "0",
         "21984",
         "1",
         "0",
         "0",
         "True",
         "False",
         "False"
        ],
        [
         "4",
         "32",
         "0",
         "28",
         "0",
         "0",
         "3866",
         "1",
         "0",
         "0",
         "False",
         "True",
         "False"
        ],
        [
         "5",
         "31",
         "1",
         "25",
         "0",
         "0",
         "3756",
         "0",
         "1",
         "0",
         "False",
         "True",
         "False"
        ],
        [
         "6",
         "46",
         "1",
         "33",
         "1",
         "0",
         "8240",
         "0",
         "1",
         "0",
         "False",
         "False",
         "True"
        ],
        [
         "7",
         "37",
         "1",
         "27",
         "3",
         "0",
         "7281",
         "1",
         "0",
         "0",
         "False",
         "True",
         "False"
        ],
        [
         "8",
         "37",
         "0",
         "29",
         "2",
         "0",
         "6406",
         "0",
         "0",
         "0",
         "False",
         "True",
         "False"
        ],
        [
         "9",
         "60",
         "1",
         "25",
         "0",
         "0",
         "28923",
         "1",
         "0",
         "0",
         "False",
         "True",
         "False"
        ],
        [
         "10",
         "25",
         "0",
         "26",
         "0",
         "0",
         "2721",
         "0",
         "0",
         "0",
         "False",
         "True",
         "False"
        ],
        [
         "11",
         "62",
         "1",
         "26",
         "0",
         "1",
         "27808",
         "0",
         "1",
         "0",
         "False",
         "True",
         "False"
        ],
        [
         "12",
         "23",
         "0",
         "34",
         "0",
         "0",
         "1826",
         "0",
         "0",
         "1",
         "False",
         "False",
         "True"
        ],
        [
         "13",
         "56",
         "1",
         "39",
         "0",
         "0",
         "11090",
         "0",
         "1",
         "0",
         "False",
         "False",
         "True"
        ],
        [
         "14",
         "27",
         "0",
         "42",
         "0",
         "1",
         "39611",
         "0",
         "1",
         "0",
         "False",
         "False",
         "True"
        ],
        [
         "15",
         "19",
         "0",
         "24",
         "1",
         "0",
         "1837",
         "0",
         "0",
         "1",
         "True",
         "False",
         "False"
        ],
        [
         "16",
         "52",
         "1",
         "30",
         "1",
         "0",
         "10797",
         "0",
         "0",
         "0",
         "False",
         "False",
         "True"
        ],
        [
         "17",
         "23",
         "0",
         "23",
         "0",
         "0",
         "2395",
         "0",
         "0",
         "0",
         "True",
         "False",
         "False"
        ],
        [
         "18",
         "56",
         "0",
         "40",
         "0",
         "0",
         "10602",
         "0",
         "0",
         "1",
         "False",
         "False",
         "True"
        ],
        [
         "19",
         "30",
         "0",
         "35",
         "0",
         "1",
         "36837",
         "0",
         "0",
         "1",
         "False",
         "False",
         "True"
        ],
        [
         "20",
         "60",
         "1",
         "36",
         "0",
         "0",
         "13228",
         "0",
         "0",
         "0",
         "False",
         "False",
         "True"
        ],
        [
         "21",
         "30",
         "1",
         "32",
         "1",
         "0",
         "4149",
         "0",
         "0",
         "1",
         "False",
         "False",
         "True"
        ],
        [
         "22",
         "18",
         "0",
         "34",
         "0",
         "0",
         "1137",
         "0",
         "1",
         "0",
         "False",
         "False",
         "True"
        ],
        [
         "23",
         "34",
         "1",
         "31",
         "1",
         "1",
         "37701",
         "0",
         "0",
         "0",
         "False",
         "False",
         "True"
        ],
        [
         "24",
         "37",
         "0",
         "28",
         "2",
         "0",
         "6203",
         "1",
         "0",
         "0",
         "False",
         "True",
         "False"
        ],
        [
         "25",
         "59",
         "1",
         "27",
         "3",
         "0",
         "14001",
         "0",
         "1",
         "0",
         "False",
         "True",
         "False"
        ],
        [
         "26",
         "63",
         "1",
         "23",
         "0",
         "0",
         "14451",
         "0",
         "0",
         "0",
         "True",
         "False",
         "False"
        ],
        [
         "27",
         "55",
         "1",
         "32",
         "2",
         "0",
         "12268",
         "1",
         "0",
         "0",
         "False",
         "False",
         "True"
        ],
        [
         "28",
         "23",
         "0",
         "17",
         "1",
         "0",
         "2775",
         "1",
         "0",
         "0",
         "False",
         "False",
         "False"
        ],
        [
         "29",
         "31",
         "0",
         "36",
         "2",
         "1",
         "38711",
         "0",
         "0",
         "1",
         "False",
         "False",
         "True"
        ],
        [
         "30",
         "22",
         "0",
         "35",
         "0",
         "1",
         "35585",
         "0",
         "0",
         "1",
         "False",
         "False",
         "True"
        ],
        [
         "31",
         "18",
         "1",
         "26",
         "0",
         "0",
         "2198",
         "0",
         "0",
         "0",
         "False",
         "True",
         "False"
        ],
        [
         "32",
         "19",
         "1",
         "28",
         "5",
         "0",
         "4687",
         "0",
         "0",
         "1",
         "False",
         "True",
         "False"
        ],
        [
         "33",
         "63",
         "0",
         "28",
         "0",
         "0",
         "13770",
         "1",
         "0",
         "0",
         "False",
         "True",
         "False"
        ],
        [
         "34",
         "28",
         "0",
         "36",
         "1",
         "1",
         "51194",
         "0",
         "0",
         "1",
         "False",
         "False",
         "True"
        ],
        [
         "35",
         "19",
         "0",
         "20",
         "0",
         "0",
         "1625",
         "1",
         "0",
         "0",
         "True",
         "False",
         "False"
        ],
        [
         "36",
         "62",
         "1",
         "32",
         "3",
         "0",
         "15612",
         "1",
         "0",
         "0",
         "False",
         "False",
         "True"
        ],
        [
         "37",
         "26",
         "0",
         "20",
         "0",
         "0",
         "2302",
         "0",
         "0",
         "1",
         "True",
         "False",
         "False"
        ],
        [
         "38",
         "35",
         "0",
         "36",
         "1",
         "1",
         "39774",
         "0",
         "0",
         "0",
         "False",
         "False",
         "True"
        ],
        [
         "39",
         "60",
         "0",
         "39",
         "0",
         "1",
         "48173",
         "0",
         "0",
         "1",
         "False",
         "False",
         "True"
        ],
        [
         "40",
         "24",
         "1",
         "26",
         "0",
         "0",
         "3046",
         "0",
         "0",
         "0",
         "False",
         "True",
         "False"
        ],
        [
         "41",
         "31",
         "1",
         "36",
         "2",
         "0",
         "4949",
         "0",
         "1",
         "0",
         "False",
         "False",
         "True"
        ],
        [
         "42",
         "41",
         "0",
         "21",
         "1",
         "0",
         "6272",
         "0",
         "1",
         "0",
         "True",
         "False",
         "False"
        ],
        [
         "43",
         "37",
         "1",
         "30",
         "2",
         "0",
         "6313",
         "0",
         "1",
         "0",
         "False",
         "False",
         "True"
        ],
        [
         "44",
         "38",
         "0",
         "37",
         "1",
         "0",
         "6079",
         "0",
         "0",
         "0",
         "False",
         "False",
         "True"
        ],
        [
         "45",
         "55",
         "0",
         "37",
         "0",
         "0",
         "20630",
         "0",
         "0",
         "1",
         "False",
         "False",
         "True"
        ],
        [
         "46",
         "18",
         "1",
         "38",
         "2",
         "0",
         "3393",
         "0",
         "0",
         "0",
         "False",
         "False",
         "True"
        ],
        [
         "47",
         "28",
         "1",
         "34",
         "0",
         "0",
         "3556",
         "1",
         "0",
         "0",
         "False",
         "False",
         "True"
        ],
        [
         "48",
         "60",
         "1",
         "24",
         "0",
         "0",
         "12629",
         "0",
         "1",
         "0",
         "True",
         "False",
         "False"
        ],
        [
         "49",
         "36",
         "0",
         "35",
         "1",
         "1",
         "38709",
         "0",
         "1",
         "0",
         "False",
         "False",
         "True"
        ]
       ],
       "shape": {
        "columns": 12,
        "rows": 1337
       }
      },
      "text/html": [
       "<div>\n",
       "<style scoped>\n",
       "    .dataframe tbody tr th:only-of-type {\n",
       "        vertical-align: middle;\n",
       "    }\n",
       "\n",
       "    .dataframe tbody tr th {\n",
       "        vertical-align: top;\n",
       "    }\n",
       "\n",
       "    .dataframe thead th {\n",
       "        text-align: right;\n",
       "    }\n",
       "</style>\n",
       "<table border=\"1\" class=\"dataframe\">\n",
       "  <thead>\n",
       "    <tr style=\"text-align: right;\">\n",
       "      <th></th>\n",
       "      <th>age</th>\n",
       "      <th>is_female</th>\n",
       "      <th>bmi</th>\n",
       "      <th>children</th>\n",
       "      <th>is_smoker</th>\n",
       "      <th>charges</th>\n",
       "      <th>region_northwest</th>\n",
       "      <th>region_southeast</th>\n",
       "      <th>region_southwest</th>\n",
       "      <th>bmi_category_Normal</th>\n",
       "      <th>bmi_category_Overweight</th>\n",
       "      <th>bmi_category_Obese</th>\n",
       "    </tr>\n",
       "  </thead>\n",
       "  <tbody>\n",
       "    <tr>\n",
       "      <th>0</th>\n",
       "      <td>19</td>\n",
       "      <td>1</td>\n",
       "      <td>27</td>\n",
       "      <td>0</td>\n",
       "      <td>1</td>\n",
       "      <td>16884</td>\n",
       "      <td>0</td>\n",
       "      <td>0</td>\n",
       "      <td>1</td>\n",
       "      <td>False</td>\n",
       "      <td>True</td>\n",
       "      <td>False</td>\n",
       "    </tr>\n",
       "    <tr>\n",
       "      <th>1</th>\n",
       "      <td>18</td>\n",
       "      <td>0</td>\n",
       "      <td>33</td>\n",
       "      <td>1</td>\n",
       "      <td>0</td>\n",
       "      <td>1725</td>\n",
       "      <td>0</td>\n",
       "      <td>1</td>\n",
       "      <td>0</td>\n",
       "      <td>False</td>\n",
       "      <td>False</td>\n",
       "      <td>True</td>\n",
       "    </tr>\n",
       "    <tr>\n",
       "      <th>2</th>\n",
       "      <td>28</td>\n",
       "      <td>0</td>\n",
       "      <td>33</td>\n",
       "      <td>3</td>\n",
       "      <td>0</td>\n",
       "      <td>4449</td>\n",
       "      <td>0</td>\n",
       "      <td>1</td>\n",
       "      <td>0</td>\n",
       "      <td>False</td>\n",
       "      <td>False</td>\n",
       "      <td>True</td>\n",
       "    </tr>\n",
       "    <tr>\n",
       "      <th>3</th>\n",
       "      <td>33</td>\n",
       "      <td>0</td>\n",
       "      <td>22</td>\n",
       "      <td>0</td>\n",
       "      <td>0</td>\n",
       "      <td>21984</td>\n",
       "      <td>1</td>\n",
       "      <td>0</td>\n",
       "      <td>0</td>\n",
       "      <td>True</td>\n",
       "      <td>False</td>\n",
       "      <td>False</td>\n",
       "    </tr>\n",
       "    <tr>\n",
       "      <th>4</th>\n",
       "      <td>32</td>\n",
       "      <td>0</td>\n",
       "      <td>28</td>\n",
       "      <td>0</td>\n",
       "      <td>0</td>\n",
       "      <td>3866</td>\n",
       "      <td>1</td>\n",
       "      <td>0</td>\n",
       "      <td>0</td>\n",
       "      <td>False</td>\n",
       "      <td>True</td>\n",
       "      <td>False</td>\n",
       "    </tr>\n",
       "    <tr>\n",
       "      <th>...</th>\n",
       "      <td>...</td>\n",
       "      <td>...</td>\n",
       "      <td>...</td>\n",
       "      <td>...</td>\n",
       "      <td>...</td>\n",
       "      <td>...</td>\n",
       "      <td>...</td>\n",
       "      <td>...</td>\n",
       "      <td>...</td>\n",
       "      <td>...</td>\n",
       "      <td>...</td>\n",
       "      <td>...</td>\n",
       "    </tr>\n",
       "    <tr>\n",
       "      <th>1333</th>\n",
       "      <td>50</td>\n",
       "      <td>0</td>\n",
       "      <td>30</td>\n",
       "      <td>3</td>\n",
       "      <td>0</td>\n",
       "      <td>10600</td>\n",
       "      <td>1</td>\n",
       "      <td>0</td>\n",
       "      <td>0</td>\n",
       "      <td>False</td>\n",
       "      <td>False</td>\n",
       "      <td>True</td>\n",
       "    </tr>\n",
       "    <tr>\n",
       "      <th>1334</th>\n",
       "      <td>18</td>\n",
       "      <td>1</td>\n",
       "      <td>31</td>\n",
       "      <td>0</td>\n",
       "      <td>0</td>\n",
       "      <td>2205</td>\n",
       "      <td>0</td>\n",
       "      <td>0</td>\n",
       "      <td>0</td>\n",
       "      <td>False</td>\n",
       "      <td>False</td>\n",
       "      <td>True</td>\n",
       "    </tr>\n",
       "    <tr>\n",
       "      <th>1335</th>\n",
       "      <td>18</td>\n",
       "      <td>1</td>\n",
       "      <td>36</td>\n",
       "      <td>0</td>\n",
       "      <td>0</td>\n",
       "      <td>1629</td>\n",
       "      <td>0</td>\n",
       "      <td>1</td>\n",
       "      <td>0</td>\n",
       "      <td>False</td>\n",
       "      <td>False</td>\n",
       "      <td>True</td>\n",
       "    </tr>\n",
       "    <tr>\n",
       "      <th>1336</th>\n",
       "      <td>21</td>\n",
       "      <td>1</td>\n",
       "      <td>25</td>\n",
       "      <td>0</td>\n",
       "      <td>0</td>\n",
       "      <td>2007</td>\n",
       "      <td>0</td>\n",
       "      <td>0</td>\n",
       "      <td>1</td>\n",
       "      <td>False</td>\n",
       "      <td>True</td>\n",
       "      <td>False</td>\n",
       "    </tr>\n",
       "    <tr>\n",
       "      <th>1337</th>\n",
       "      <td>61</td>\n",
       "      <td>1</td>\n",
       "      <td>29</td>\n",
       "      <td>0</td>\n",
       "      <td>1</td>\n",
       "      <td>29141</td>\n",
       "      <td>1</td>\n",
       "      <td>0</td>\n",
       "      <td>0</td>\n",
       "      <td>False</td>\n",
       "      <td>True</td>\n",
       "      <td>False</td>\n",
       "    </tr>\n",
       "  </tbody>\n",
       "</table>\n",
       "<p>1337 rows × 12 columns</p>\n",
       "</div>"
      ],
      "text/plain": [
       "      age  is_female  bmi  children  is_smoker  charges  region_northwest  \\\n",
       "0      19          1   27         0          1    16884                 0   \n",
       "1      18          0   33         1          0     1725                 0   \n",
       "2      28          0   33         3          0     4449                 0   \n",
       "3      33          0   22         0          0    21984                 1   \n",
       "4      32          0   28         0          0     3866                 1   \n",
       "...   ...        ...  ...       ...        ...      ...               ...   \n",
       "1333   50          0   30         3          0    10600                 1   \n",
       "1334   18          1   31         0          0     2205                 0   \n",
       "1335   18          1   36         0          0     1629                 0   \n",
       "1336   21          1   25         0          0     2007                 0   \n",
       "1337   61          1   29         0          1    29141                 1   \n",
       "\n",
       "      region_southeast  region_southwest  bmi_category_Normal  \\\n",
       "0                    0                 1                False   \n",
       "1                    1                 0                False   \n",
       "2                    1                 0                False   \n",
       "3                    0                 0                 True   \n",
       "4                    0                 0                False   \n",
       "...                ...               ...                  ...   \n",
       "1333                 0                 0                False   \n",
       "1334                 0                 0                False   \n",
       "1335                 1                 0                False   \n",
       "1336                 0                 1                False   \n",
       "1337                 0                 0                False   \n",
       "\n",
       "      bmi_category_Overweight  bmi_category_Obese  \n",
       "0                        True               False  \n",
       "1                       False                True  \n",
       "2                       False                True  \n",
       "3                       False               False  \n",
       "4                        True               False  \n",
       "...                       ...                 ...  \n",
       "1333                    False                True  \n",
       "1334                    False                True  \n",
       "1335                    False                True  \n",
       "1336                     True               False  \n",
       "1337                     True               False  \n",
       "\n",
       "[1337 rows x 12 columns]"
      ]
     },
     "execution_count": 44,
     "metadata": {},
     "output_type": "execute_result"
    }
   ],
   "source": [
    "df_cleaned"
   ]
  },
  {
   "cell_type": "code",
   "execution_count": 45,
   "id": "2bc54918",
   "metadata": {},
   "outputs": [],
   "source": [
    "df_cleaned = df_cleaned.astype(int)"
   ]
  },
  {
   "cell_type": "code",
   "execution_count": 46,
   "id": "e49c5d7e",
   "metadata": {},
   "outputs": [
    {
     "data": {
      "application/vnd.microsoft.datawrangler.viewer.v0+json": {
       "columns": [
        {
         "name": "index",
         "rawType": "int64",
         "type": "integer"
        },
        {
         "name": "age",
         "rawType": "int64",
         "type": "integer"
        },
        {
         "name": "is_female",
         "rawType": "int64",
         "type": "integer"
        },
        {
         "name": "bmi",
         "rawType": "int64",
         "type": "integer"
        },
        {
         "name": "children",
         "rawType": "int64",
         "type": "integer"
        },
        {
         "name": "is_smoker",
         "rawType": "int64",
         "type": "integer"
        },
        {
         "name": "charges",
         "rawType": "int64",
         "type": "integer"
        },
        {
         "name": "region_northwest",
         "rawType": "int64",
         "type": "integer"
        },
        {
         "name": "region_southeast",
         "rawType": "int64",
         "type": "integer"
        },
        {
         "name": "region_southwest",
         "rawType": "int64",
         "type": "integer"
        },
        {
         "name": "bmi_category_Normal",
         "rawType": "int64",
         "type": "integer"
        },
        {
         "name": "bmi_category_Overweight",
         "rawType": "int64",
         "type": "integer"
        },
        {
         "name": "bmi_category_Obese",
         "rawType": "int64",
         "type": "integer"
        }
       ],
       "ref": "87a7b2bc-3e98-43e5-906e-9041c7ca30e0",
       "rows": [
        [
         "0",
         "19",
         "1",
         "27",
         "0",
         "1",
         "16884",
         "0",
         "0",
         "1",
         "0",
         "1",
         "0"
        ],
        [
         "1",
         "18",
         "0",
         "33",
         "1",
         "0",
         "1725",
         "0",
         "1",
         "0",
         "0",
         "0",
         "1"
        ],
        [
         "2",
         "28",
         "0",
         "33",
         "3",
         "0",
         "4449",
         "0",
         "1",
         "0",
         "0",
         "0",
         "1"
        ],
        [
         "3",
         "33",
         "0",
         "22",
         "0",
         "0",
         "21984",
         "1",
         "0",
         "0",
         "1",
         "0",
         "0"
        ],
        [
         "4",
         "32",
         "0",
         "28",
         "0",
         "0",
         "3866",
         "1",
         "0",
         "0",
         "0",
         "1",
         "0"
        ],
        [
         "5",
         "31",
         "1",
         "25",
         "0",
         "0",
         "3756",
         "0",
         "1",
         "0",
         "0",
         "1",
         "0"
        ],
        [
         "6",
         "46",
         "1",
         "33",
         "1",
         "0",
         "8240",
         "0",
         "1",
         "0",
         "0",
         "0",
         "1"
        ],
        [
         "7",
         "37",
         "1",
         "27",
         "3",
         "0",
         "7281",
         "1",
         "0",
         "0",
         "0",
         "1",
         "0"
        ],
        [
         "8",
         "37",
         "0",
         "29",
         "2",
         "0",
         "6406",
         "0",
         "0",
         "0",
         "0",
         "1",
         "0"
        ],
        [
         "9",
         "60",
         "1",
         "25",
         "0",
         "0",
         "28923",
         "1",
         "0",
         "0",
         "0",
         "1",
         "0"
        ],
        [
         "10",
         "25",
         "0",
         "26",
         "0",
         "0",
         "2721",
         "0",
         "0",
         "0",
         "0",
         "1",
         "0"
        ],
        [
         "11",
         "62",
         "1",
         "26",
         "0",
         "1",
         "27808",
         "0",
         "1",
         "0",
         "0",
         "1",
         "0"
        ],
        [
         "12",
         "23",
         "0",
         "34",
         "0",
         "0",
         "1826",
         "0",
         "0",
         "1",
         "0",
         "0",
         "1"
        ],
        [
         "13",
         "56",
         "1",
         "39",
         "0",
         "0",
         "11090",
         "0",
         "1",
         "0",
         "0",
         "0",
         "1"
        ],
        [
         "14",
         "27",
         "0",
         "42",
         "0",
         "1",
         "39611",
         "0",
         "1",
         "0",
         "0",
         "0",
         "1"
        ],
        [
         "15",
         "19",
         "0",
         "24",
         "1",
         "0",
         "1837",
         "0",
         "0",
         "1",
         "1",
         "0",
         "0"
        ],
        [
         "16",
         "52",
         "1",
         "30",
         "1",
         "0",
         "10797",
         "0",
         "0",
         "0",
         "0",
         "0",
         "1"
        ],
        [
         "17",
         "23",
         "0",
         "23",
         "0",
         "0",
         "2395",
         "0",
         "0",
         "0",
         "1",
         "0",
         "0"
        ],
        [
         "18",
         "56",
         "0",
         "40",
         "0",
         "0",
         "10602",
         "0",
         "0",
         "1",
         "0",
         "0",
         "1"
        ],
        [
         "19",
         "30",
         "0",
         "35",
         "0",
         "1",
         "36837",
         "0",
         "0",
         "1",
         "0",
         "0",
         "1"
        ],
        [
         "20",
         "60",
         "1",
         "36",
         "0",
         "0",
         "13228",
         "0",
         "0",
         "0",
         "0",
         "0",
         "1"
        ],
        [
         "21",
         "30",
         "1",
         "32",
         "1",
         "0",
         "4149",
         "0",
         "0",
         "1",
         "0",
         "0",
         "1"
        ],
        [
         "22",
         "18",
         "0",
         "34",
         "0",
         "0",
         "1137",
         "0",
         "1",
         "0",
         "0",
         "0",
         "1"
        ],
        [
         "23",
         "34",
         "1",
         "31",
         "1",
         "1",
         "37701",
         "0",
         "0",
         "0",
         "0",
         "0",
         "1"
        ],
        [
         "24",
         "37",
         "0",
         "28",
         "2",
         "0",
         "6203",
         "1",
         "0",
         "0",
         "0",
         "1",
         "0"
        ],
        [
         "25",
         "59",
         "1",
         "27",
         "3",
         "0",
         "14001",
         "0",
         "1",
         "0",
         "0",
         "1",
         "0"
        ],
        [
         "26",
         "63",
         "1",
         "23",
         "0",
         "0",
         "14451",
         "0",
         "0",
         "0",
         "1",
         "0",
         "0"
        ],
        [
         "27",
         "55",
         "1",
         "32",
         "2",
         "0",
         "12268",
         "1",
         "0",
         "0",
         "0",
         "0",
         "1"
        ],
        [
         "28",
         "23",
         "0",
         "17",
         "1",
         "0",
         "2775",
         "1",
         "0",
         "0",
         "0",
         "0",
         "0"
        ],
        [
         "29",
         "31",
         "0",
         "36",
         "2",
         "1",
         "38711",
         "0",
         "0",
         "1",
         "0",
         "0",
         "1"
        ],
        [
         "30",
         "22",
         "0",
         "35",
         "0",
         "1",
         "35585",
         "0",
         "0",
         "1",
         "0",
         "0",
         "1"
        ],
        [
         "31",
         "18",
         "1",
         "26",
         "0",
         "0",
         "2198",
         "0",
         "0",
         "0",
         "0",
         "1",
         "0"
        ],
        [
         "32",
         "19",
         "1",
         "28",
         "5",
         "0",
         "4687",
         "0",
         "0",
         "1",
         "0",
         "1",
         "0"
        ],
        [
         "33",
         "63",
         "0",
         "28",
         "0",
         "0",
         "13770",
         "1",
         "0",
         "0",
         "0",
         "1",
         "0"
        ],
        [
         "34",
         "28",
         "0",
         "36",
         "1",
         "1",
         "51194",
         "0",
         "0",
         "1",
         "0",
         "0",
         "1"
        ],
        [
         "35",
         "19",
         "0",
         "20",
         "0",
         "0",
         "1625",
         "1",
         "0",
         "0",
         "1",
         "0",
         "0"
        ],
        [
         "36",
         "62",
         "1",
         "32",
         "3",
         "0",
         "15612",
         "1",
         "0",
         "0",
         "0",
         "0",
         "1"
        ],
        [
         "37",
         "26",
         "0",
         "20",
         "0",
         "0",
         "2302",
         "0",
         "0",
         "1",
         "1",
         "0",
         "0"
        ],
        [
         "38",
         "35",
         "0",
         "36",
         "1",
         "1",
         "39774",
         "0",
         "0",
         "0",
         "0",
         "0",
         "1"
        ],
        [
         "39",
         "60",
         "0",
         "39",
         "0",
         "1",
         "48173",
         "0",
         "0",
         "1",
         "0",
         "0",
         "1"
        ],
        [
         "40",
         "24",
         "1",
         "26",
         "0",
         "0",
         "3046",
         "0",
         "0",
         "0",
         "0",
         "1",
         "0"
        ],
        [
         "41",
         "31",
         "1",
         "36",
         "2",
         "0",
         "4949",
         "0",
         "1",
         "0",
         "0",
         "0",
         "1"
        ],
        [
         "42",
         "41",
         "0",
         "21",
         "1",
         "0",
         "6272",
         "0",
         "1",
         "0",
         "1",
         "0",
         "0"
        ],
        [
         "43",
         "37",
         "1",
         "30",
         "2",
         "0",
         "6313",
         "0",
         "1",
         "0",
         "0",
         "0",
         "1"
        ],
        [
         "44",
         "38",
         "0",
         "37",
         "1",
         "0",
         "6079",
         "0",
         "0",
         "0",
         "0",
         "0",
         "1"
        ],
        [
         "45",
         "55",
         "0",
         "37",
         "0",
         "0",
         "20630",
         "0",
         "0",
         "1",
         "0",
         "0",
         "1"
        ],
        [
         "46",
         "18",
         "1",
         "38",
         "2",
         "0",
         "3393",
         "0",
         "0",
         "0",
         "0",
         "0",
         "1"
        ],
        [
         "47",
         "28",
         "1",
         "34",
         "0",
         "0",
         "3556",
         "1",
         "0",
         "0",
         "0",
         "0",
         "1"
        ],
        [
         "48",
         "60",
         "1",
         "24",
         "0",
         "0",
         "12629",
         "0",
         "1",
         "0",
         "1",
         "0",
         "0"
        ],
        [
         "49",
         "36",
         "0",
         "35",
         "1",
         "1",
         "38709",
         "0",
         "1",
         "0",
         "0",
         "0",
         "1"
        ]
       ],
       "shape": {
        "columns": 12,
        "rows": 1337
       }
      },
      "text/html": [
       "<div>\n",
       "<style scoped>\n",
       "    .dataframe tbody tr th:only-of-type {\n",
       "        vertical-align: middle;\n",
       "    }\n",
       "\n",
       "    .dataframe tbody tr th {\n",
       "        vertical-align: top;\n",
       "    }\n",
       "\n",
       "    .dataframe thead th {\n",
       "        text-align: right;\n",
       "    }\n",
       "</style>\n",
       "<table border=\"1\" class=\"dataframe\">\n",
       "  <thead>\n",
       "    <tr style=\"text-align: right;\">\n",
       "      <th></th>\n",
       "      <th>age</th>\n",
       "      <th>is_female</th>\n",
       "      <th>bmi</th>\n",
       "      <th>children</th>\n",
       "      <th>is_smoker</th>\n",
       "      <th>charges</th>\n",
       "      <th>region_northwest</th>\n",
       "      <th>region_southeast</th>\n",
       "      <th>region_southwest</th>\n",
       "      <th>bmi_category_Normal</th>\n",
       "      <th>bmi_category_Overweight</th>\n",
       "      <th>bmi_category_Obese</th>\n",
       "    </tr>\n",
       "  </thead>\n",
       "  <tbody>\n",
       "    <tr>\n",
       "      <th>0</th>\n",
       "      <td>19</td>\n",
       "      <td>1</td>\n",
       "      <td>27</td>\n",
       "      <td>0</td>\n",
       "      <td>1</td>\n",
       "      <td>16884</td>\n",
       "      <td>0</td>\n",
       "      <td>0</td>\n",
       "      <td>1</td>\n",
       "      <td>0</td>\n",
       "      <td>1</td>\n",
       "      <td>0</td>\n",
       "    </tr>\n",
       "    <tr>\n",
       "      <th>1</th>\n",
       "      <td>18</td>\n",
       "      <td>0</td>\n",
       "      <td>33</td>\n",
       "      <td>1</td>\n",
       "      <td>0</td>\n",
       "      <td>1725</td>\n",
       "      <td>0</td>\n",
       "      <td>1</td>\n",
       "      <td>0</td>\n",
       "      <td>0</td>\n",
       "      <td>0</td>\n",
       "      <td>1</td>\n",
       "    </tr>\n",
       "    <tr>\n",
       "      <th>2</th>\n",
       "      <td>28</td>\n",
       "      <td>0</td>\n",
       "      <td>33</td>\n",
       "      <td>3</td>\n",
       "      <td>0</td>\n",
       "      <td>4449</td>\n",
       "      <td>0</td>\n",
       "      <td>1</td>\n",
       "      <td>0</td>\n",
       "      <td>0</td>\n",
       "      <td>0</td>\n",
       "      <td>1</td>\n",
       "    </tr>\n",
       "    <tr>\n",
       "      <th>3</th>\n",
       "      <td>33</td>\n",
       "      <td>0</td>\n",
       "      <td>22</td>\n",
       "      <td>0</td>\n",
       "      <td>0</td>\n",
       "      <td>21984</td>\n",
       "      <td>1</td>\n",
       "      <td>0</td>\n",
       "      <td>0</td>\n",
       "      <td>1</td>\n",
       "      <td>0</td>\n",
       "      <td>0</td>\n",
       "    </tr>\n",
       "    <tr>\n",
       "      <th>4</th>\n",
       "      <td>32</td>\n",
       "      <td>0</td>\n",
       "      <td>28</td>\n",
       "      <td>0</td>\n",
       "      <td>0</td>\n",
       "      <td>3866</td>\n",
       "      <td>1</td>\n",
       "      <td>0</td>\n",
       "      <td>0</td>\n",
       "      <td>0</td>\n",
       "      <td>1</td>\n",
       "      <td>0</td>\n",
       "    </tr>\n",
       "    <tr>\n",
       "      <th>...</th>\n",
       "      <td>...</td>\n",
       "      <td>...</td>\n",
       "      <td>...</td>\n",
       "      <td>...</td>\n",
       "      <td>...</td>\n",
       "      <td>...</td>\n",
       "      <td>...</td>\n",
       "      <td>...</td>\n",
       "      <td>...</td>\n",
       "      <td>...</td>\n",
       "      <td>...</td>\n",
       "      <td>...</td>\n",
       "    </tr>\n",
       "    <tr>\n",
       "      <th>1333</th>\n",
       "      <td>50</td>\n",
       "      <td>0</td>\n",
       "      <td>30</td>\n",
       "      <td>3</td>\n",
       "      <td>0</td>\n",
       "      <td>10600</td>\n",
       "      <td>1</td>\n",
       "      <td>0</td>\n",
       "      <td>0</td>\n",
       "      <td>0</td>\n",
       "      <td>0</td>\n",
       "      <td>1</td>\n",
       "    </tr>\n",
       "    <tr>\n",
       "      <th>1334</th>\n",
       "      <td>18</td>\n",
       "      <td>1</td>\n",
       "      <td>31</td>\n",
       "      <td>0</td>\n",
       "      <td>0</td>\n",
       "      <td>2205</td>\n",
       "      <td>0</td>\n",
       "      <td>0</td>\n",
       "      <td>0</td>\n",
       "      <td>0</td>\n",
       "      <td>0</td>\n",
       "      <td>1</td>\n",
       "    </tr>\n",
       "    <tr>\n",
       "      <th>1335</th>\n",
       "      <td>18</td>\n",
       "      <td>1</td>\n",
       "      <td>36</td>\n",
       "      <td>0</td>\n",
       "      <td>0</td>\n",
       "      <td>1629</td>\n",
       "      <td>0</td>\n",
       "      <td>1</td>\n",
       "      <td>0</td>\n",
       "      <td>0</td>\n",
       "      <td>0</td>\n",
       "      <td>1</td>\n",
       "    </tr>\n",
       "    <tr>\n",
       "      <th>1336</th>\n",
       "      <td>21</td>\n",
       "      <td>1</td>\n",
       "      <td>25</td>\n",
       "      <td>0</td>\n",
       "      <td>0</td>\n",
       "      <td>2007</td>\n",
       "      <td>0</td>\n",
       "      <td>0</td>\n",
       "      <td>1</td>\n",
       "      <td>0</td>\n",
       "      <td>1</td>\n",
       "      <td>0</td>\n",
       "    </tr>\n",
       "    <tr>\n",
       "      <th>1337</th>\n",
       "      <td>61</td>\n",
       "      <td>1</td>\n",
       "      <td>29</td>\n",
       "      <td>0</td>\n",
       "      <td>1</td>\n",
       "      <td>29141</td>\n",
       "      <td>1</td>\n",
       "      <td>0</td>\n",
       "      <td>0</td>\n",
       "      <td>0</td>\n",
       "      <td>1</td>\n",
       "      <td>0</td>\n",
       "    </tr>\n",
       "  </tbody>\n",
       "</table>\n",
       "<p>1337 rows × 12 columns</p>\n",
       "</div>"
      ],
      "text/plain": [
       "      age  is_female  bmi  children  is_smoker  charges  region_northwest  \\\n",
       "0      19          1   27         0          1    16884                 0   \n",
       "1      18          0   33         1          0     1725                 0   \n",
       "2      28          0   33         3          0     4449                 0   \n",
       "3      33          0   22         0          0    21984                 1   \n",
       "4      32          0   28         0          0     3866                 1   \n",
       "...   ...        ...  ...       ...        ...      ...               ...   \n",
       "1333   50          0   30         3          0    10600                 1   \n",
       "1334   18          1   31         0          0     2205                 0   \n",
       "1335   18          1   36         0          0     1629                 0   \n",
       "1336   21          1   25         0          0     2007                 0   \n",
       "1337   61          1   29         0          1    29141                 1   \n",
       "\n",
       "      region_southeast  region_southwest  bmi_category_Normal  \\\n",
       "0                    0                 1                    0   \n",
       "1                    1                 0                    0   \n",
       "2                    1                 0                    0   \n",
       "3                    0                 0                    1   \n",
       "4                    0                 0                    0   \n",
       "...                ...               ...                  ...   \n",
       "1333                 0                 0                    0   \n",
       "1334                 0                 0                    0   \n",
       "1335                 1                 0                    0   \n",
       "1336                 0                 1                    0   \n",
       "1337                 0                 0                    0   \n",
       "\n",
       "      bmi_category_Overweight  bmi_category_Obese  \n",
       "0                           1                   0  \n",
       "1                           0                   1  \n",
       "2                           0                   1  \n",
       "3                           0                   0  \n",
       "4                           1                   0  \n",
       "...                       ...                 ...  \n",
       "1333                        0                   1  \n",
       "1334                        0                   1  \n",
       "1335                        0                   1  \n",
       "1336                        1                   0  \n",
       "1337                        1                   0  \n",
       "\n",
       "[1337 rows x 12 columns]"
      ]
     },
     "execution_count": 46,
     "metadata": {},
     "output_type": "execute_result"
    }
   ],
   "source": [
    "df_cleaned"
   ]
  },
  {
   "cell_type": "code",
   "execution_count": 47,
   "id": "c93e1967",
   "metadata": {},
   "outputs": [
    {
     "data": {
      "text/plain": [
       "Index(['age', 'is_female', 'bmi', 'children', 'is_smoker', 'charges',\n",
       "       'region_northwest', 'region_southeast', 'region_southwest',\n",
       "       'bmi_category_Normal', 'bmi_category_Overweight', 'bmi_category_Obese'],\n",
       "      dtype='object')"
      ]
     },
     "execution_count": 47,
     "metadata": {},
     "output_type": "execute_result"
    }
   ],
   "source": [
    "df_cleaned.columns"
   ]
  },
  {
   "cell_type": "code",
   "execution_count": 48,
   "id": "0fe09a18",
   "metadata": {},
   "outputs": [],
   "source": [
    "from sklearn.preprocessing import StandardScaler\n",
    "scaler = StandardScaler()\n",
    "\n",
    "cols = ['age', 'bmi', 'children']  # Numeric columns to scale"
   ]
  },
  {
   "cell_type": "code",
   "execution_count": 49,
   "id": "9f5b86a8",
   "metadata": {},
   "outputs": [],
   "source": [
    "df_cleaned[cols] = scaler.fit_transform(df_cleaned[cols])"
   ]
  },
  {
   "cell_type": "code",
   "execution_count": 50,
   "id": "533d730d",
   "metadata": {},
   "outputs": [
    {
     "data": {
      "application/vnd.microsoft.datawrangler.viewer.v0+json": {
       "columns": [
        {
         "name": "index",
         "rawType": "int64",
         "type": "integer"
        },
        {
         "name": "age",
         "rawType": "float64",
         "type": "float"
        },
        {
         "name": "is_female",
         "rawType": "int64",
         "type": "integer"
        },
        {
         "name": "bmi",
         "rawType": "float64",
         "type": "float"
        },
        {
         "name": "children",
         "rawType": "float64",
         "type": "float"
        },
        {
         "name": "is_smoker",
         "rawType": "int64",
         "type": "integer"
        },
        {
         "name": "charges",
         "rawType": "int64",
         "type": "integer"
        },
        {
         "name": "region_northwest",
         "rawType": "int64",
         "type": "integer"
        },
        {
         "name": "region_southeast",
         "rawType": "int64",
         "type": "integer"
        },
        {
         "name": "region_southwest",
         "rawType": "int64",
         "type": "integer"
        },
        {
         "name": "bmi_category_Normal",
         "rawType": "int64",
         "type": "integer"
        },
        {
         "name": "bmi_category_Overweight",
         "rawType": "int64",
         "type": "integer"
        },
        {
         "name": "bmi_category_Obese",
         "rawType": "int64",
         "type": "integer"
        }
       ],
       "ref": "e6e75b65-ca55-4239-a9de-bc5f2c10422f",
       "rows": [
        [
         "0",
         "-1.4404177293803346",
         "1",
         "-0.5179491381563489",
         "-0.9092341626291546",
         "1",
         "16884",
         "0",
         "0",
         "1",
         "0",
         "1",
         "0"
        ],
        [
         "1",
         "-1.5116474702606657",
         "0",
         "0.462463317315626",
         "-0.07944161966998751",
         "0",
         "1725",
         "0",
         "1",
         "0",
         "0",
         "0",
         "1"
        ],
        [
         "2",
         "-0.7993500614573563",
         "0",
         "0.462463317315626",
         "1.5801434662483465",
         "0",
         "4449",
         "0",
         "1",
         "0",
         "0",
         "0",
         "1"
        ],
        [
         "3",
         "-0.44320135705570163",
         "0",
         "-1.334959517716328",
         "-0.9092341626291546",
         "0",
         "21984",
         "1",
         "0",
         "0",
         "1",
         "0",
         "0"
        ],
        [
         "4",
         "-0.5144310979360326",
         "0",
         "-0.35454706224435306",
         "-0.9092341626291546",
         "0",
         "3866",
         "1",
         "0",
         "0",
         "0",
         "1",
         "0"
        ]
       ],
       "shape": {
        "columns": 12,
        "rows": 5
       }
      },
      "text/html": [
       "<div>\n",
       "<style scoped>\n",
       "    .dataframe tbody tr th:only-of-type {\n",
       "        vertical-align: middle;\n",
       "    }\n",
       "\n",
       "    .dataframe tbody tr th {\n",
       "        vertical-align: top;\n",
       "    }\n",
       "\n",
       "    .dataframe thead th {\n",
       "        text-align: right;\n",
       "    }\n",
       "</style>\n",
       "<table border=\"1\" class=\"dataframe\">\n",
       "  <thead>\n",
       "    <tr style=\"text-align: right;\">\n",
       "      <th></th>\n",
       "      <th>age</th>\n",
       "      <th>is_female</th>\n",
       "      <th>bmi</th>\n",
       "      <th>children</th>\n",
       "      <th>is_smoker</th>\n",
       "      <th>charges</th>\n",
       "      <th>region_northwest</th>\n",
       "      <th>region_southeast</th>\n",
       "      <th>region_southwest</th>\n",
       "      <th>bmi_category_Normal</th>\n",
       "      <th>bmi_category_Overweight</th>\n",
       "      <th>bmi_category_Obese</th>\n",
       "    </tr>\n",
       "  </thead>\n",
       "  <tbody>\n",
       "    <tr>\n",
       "      <th>0</th>\n",
       "      <td>-1.440418</td>\n",
       "      <td>1</td>\n",
       "      <td>-0.517949</td>\n",
       "      <td>-0.909234</td>\n",
       "      <td>1</td>\n",
       "      <td>16884</td>\n",
       "      <td>0</td>\n",
       "      <td>0</td>\n",
       "      <td>1</td>\n",
       "      <td>0</td>\n",
       "      <td>1</td>\n",
       "      <td>0</td>\n",
       "    </tr>\n",
       "    <tr>\n",
       "      <th>1</th>\n",
       "      <td>-1.511647</td>\n",
       "      <td>0</td>\n",
       "      <td>0.462463</td>\n",
       "      <td>-0.079442</td>\n",
       "      <td>0</td>\n",
       "      <td>1725</td>\n",
       "      <td>0</td>\n",
       "      <td>1</td>\n",
       "      <td>0</td>\n",
       "      <td>0</td>\n",
       "      <td>0</td>\n",
       "      <td>1</td>\n",
       "    </tr>\n",
       "    <tr>\n",
       "      <th>2</th>\n",
       "      <td>-0.799350</td>\n",
       "      <td>0</td>\n",
       "      <td>0.462463</td>\n",
       "      <td>1.580143</td>\n",
       "      <td>0</td>\n",
       "      <td>4449</td>\n",
       "      <td>0</td>\n",
       "      <td>1</td>\n",
       "      <td>0</td>\n",
       "      <td>0</td>\n",
       "      <td>0</td>\n",
       "      <td>1</td>\n",
       "    </tr>\n",
       "    <tr>\n",
       "      <th>3</th>\n",
       "      <td>-0.443201</td>\n",
       "      <td>0</td>\n",
       "      <td>-1.334960</td>\n",
       "      <td>-0.909234</td>\n",
       "      <td>0</td>\n",
       "      <td>21984</td>\n",
       "      <td>1</td>\n",
       "      <td>0</td>\n",
       "      <td>0</td>\n",
       "      <td>1</td>\n",
       "      <td>0</td>\n",
       "      <td>0</td>\n",
       "    </tr>\n",
       "    <tr>\n",
       "      <th>4</th>\n",
       "      <td>-0.514431</td>\n",
       "      <td>0</td>\n",
       "      <td>-0.354547</td>\n",
       "      <td>-0.909234</td>\n",
       "      <td>0</td>\n",
       "      <td>3866</td>\n",
       "      <td>1</td>\n",
       "      <td>0</td>\n",
       "      <td>0</td>\n",
       "      <td>0</td>\n",
       "      <td>1</td>\n",
       "      <td>0</td>\n",
       "    </tr>\n",
       "  </tbody>\n",
       "</table>\n",
       "</div>"
      ],
      "text/plain": [
       "        age  is_female       bmi  children  is_smoker  charges  \\\n",
       "0 -1.440418          1 -0.517949 -0.909234          1    16884   \n",
       "1 -1.511647          0  0.462463 -0.079442          0     1725   \n",
       "2 -0.799350          0  0.462463  1.580143          0     4449   \n",
       "3 -0.443201          0 -1.334960 -0.909234          0    21984   \n",
       "4 -0.514431          0 -0.354547 -0.909234          0     3866   \n",
       "\n",
       "   region_northwest  region_southeast  region_southwest  bmi_category_Normal  \\\n",
       "0                 0                 0                 1                    0   \n",
       "1                 0                 1                 0                    0   \n",
       "2                 0                 1                 0                    0   \n",
       "3                 1                 0                 0                    1   \n",
       "4                 1                 0                 0                    0   \n",
       "\n",
       "   bmi_category_Overweight  bmi_category_Obese  \n",
       "0                        1                   0  \n",
       "1                        0                   1  \n",
       "2                        0                   1  \n",
       "3                        0                   0  \n",
       "4                        1                   0  "
      ]
     },
     "execution_count": 50,
     "metadata": {},
     "output_type": "execute_result"
    }
   ],
   "source": [
    "df_cleaned.head()"
   ]
  },
  {
   "cell_type": "code",
   "execution_count": 51,
   "id": "efbdbf4f",
   "metadata": {},
   "outputs": [
    {
     "data": {
      "text/plain": [
       "Index(['age', 'is_female', 'bmi', 'children', 'is_smoker', 'charges',\n",
       "       'region_northwest', 'region_southeast', 'region_southwest',\n",
       "       'bmi_category_Normal', 'bmi_category_Overweight', 'bmi_category_Obese'],\n",
       "      dtype='object')"
      ]
     },
     "execution_count": 51,
     "metadata": {},
     "output_type": "execute_result"
    }
   ],
   "source": [
    "df_cleaned.columns"
   ]
  },
  {
   "cell_type": "code",
   "execution_count": 52,
   "id": "12e7327a",
   "metadata": {},
   "outputs": [],
   "source": [
    "from scipy.stats import pearsonr\n",
    "\n",
    "# -------------------------------------\n",
    "# Pearson Correlation Calculation\n",
    "# -------------------------------------\n",
    "\n",
    "# List of feature to check against target\n",
    "selected_features = [\n",
    "    \"age\",\"bmi\",'children', 'is_smoker',\n",
    "    'region_northwest', 'region_southeast', 'region_southwest',\n",
    "    'bmi_category_Normal', 'bmi_category_Overweight', 'bmi_category_Obese'\n",
    "]"
   ]
  },
  {
   "cell_type": "code",
   "execution_count": 53,
   "id": "789f66ad",
   "metadata": {},
   "outputs": [
    {
     "data": {
      "application/vnd.microsoft.datawrangler.viewer.v0+json": {
       "columns": [
        {
         "name": "index",
         "rawType": "int64",
         "type": "integer"
        },
        {
         "name": "Feature",
         "rawType": "object",
         "type": "string"
        },
        {
         "name": "Pearson Correlation",
         "rawType": "float64",
         "type": "float"
        }
       ],
       "ref": "7906d249-8341-4914-a635-d3485e039d61",
       "rows": [
        [
         "3",
         "is_smoker",
         "0.7872337542693594"
        ],
        [
         "0",
         "age",
         "0.29830870258771747"
        ],
        [
         "9",
         "bmi_category_Obese",
         "0.20034756980289614"
        ],
        [
         "1",
         "bmi",
         "0.1962362929936443"
        ],
        [
         "5",
         "region_southeast",
         "0.07357719339126034"
        ],
        [
         "2",
         "children",
         "0.0673902418591206"
        ],
        [
         "4",
         "region_northwest",
         "-0.03869515161276132"
        ],
        [
         "6",
         "region_southwest",
         "-0.04363698192991322"
        ],
        [
         "7",
         "bmi_category_Normal",
         "-0.10404195904728356"
        ],
        [
         "8",
         "bmi_category_Overweight",
         "-0.12060129307098051"
        ]
       ],
       "shape": {
        "columns": 2,
        "rows": 10
       }
      },
      "text/html": [
       "<div>\n",
       "<style scoped>\n",
       "    .dataframe tbody tr th:only-of-type {\n",
       "        vertical-align: middle;\n",
       "    }\n",
       "\n",
       "    .dataframe tbody tr th {\n",
       "        vertical-align: top;\n",
       "    }\n",
       "\n",
       "    .dataframe thead th {\n",
       "        text-align: right;\n",
       "    }\n",
       "</style>\n",
       "<table border=\"1\" class=\"dataframe\">\n",
       "  <thead>\n",
       "    <tr style=\"text-align: right;\">\n",
       "      <th></th>\n",
       "      <th>Feature</th>\n",
       "      <th>Pearson Correlation</th>\n",
       "    </tr>\n",
       "  </thead>\n",
       "  <tbody>\n",
       "    <tr>\n",
       "      <th>3</th>\n",
       "      <td>is_smoker</td>\n",
       "      <td>0.787234</td>\n",
       "    </tr>\n",
       "    <tr>\n",
       "      <th>0</th>\n",
       "      <td>age</td>\n",
       "      <td>0.298309</td>\n",
       "    </tr>\n",
       "    <tr>\n",
       "      <th>9</th>\n",
       "      <td>bmi_category_Obese</td>\n",
       "      <td>0.200348</td>\n",
       "    </tr>\n",
       "    <tr>\n",
       "      <th>1</th>\n",
       "      <td>bmi</td>\n",
       "      <td>0.196236</td>\n",
       "    </tr>\n",
       "    <tr>\n",
       "      <th>5</th>\n",
       "      <td>region_southeast</td>\n",
       "      <td>0.073577</td>\n",
       "    </tr>\n",
       "    <tr>\n",
       "      <th>2</th>\n",
       "      <td>children</td>\n",
       "      <td>0.067390</td>\n",
       "    </tr>\n",
       "    <tr>\n",
       "      <th>4</th>\n",
       "      <td>region_northwest</td>\n",
       "      <td>-0.038695</td>\n",
       "    </tr>\n",
       "    <tr>\n",
       "      <th>6</th>\n",
       "      <td>region_southwest</td>\n",
       "      <td>-0.043637</td>\n",
       "    </tr>\n",
       "    <tr>\n",
       "      <th>7</th>\n",
       "      <td>bmi_category_Normal</td>\n",
       "      <td>-0.104042</td>\n",
       "    </tr>\n",
       "    <tr>\n",
       "      <th>8</th>\n",
       "      <td>bmi_category_Overweight</td>\n",
       "      <td>-0.120601</td>\n",
       "    </tr>\n",
       "  </tbody>\n",
       "</table>\n",
       "</div>"
      ],
      "text/plain": [
       "                   Feature  Pearson Correlation\n",
       "3                is_smoker             0.787234\n",
       "0                      age             0.298309\n",
       "9       bmi_category_Obese             0.200348\n",
       "1                      bmi             0.196236\n",
       "5         region_southeast             0.073577\n",
       "2                 children             0.067390\n",
       "4         region_northwest            -0.038695\n",
       "6         region_southwest            -0.043637\n",
       "7      bmi_category_Normal            -0.104042\n",
       "8  bmi_category_Overweight            -0.120601"
      ]
     },
     "execution_count": 53,
     "metadata": {},
     "output_type": "execute_result"
    }
   ],
   "source": [
    "correlations = {\n",
    "    feature: pearsonr(df_cleaned[feature], df_cleaned[\"charges\"])[0]\n",
    "    for feature in selected_features\n",
    "}\n",
    "\n",
    "\n",
    "correlation_df = pd.DataFrame(list(correlations.items()), columns=[\"Feature\",\"Pearson Correlation\"])\n",
    "correlation_df.sort_values(by='Pearson Correlation', ascending=False)"
   ]
  },
  {
   "cell_type": "code",
   "execution_count": 54,
   "id": "50100650",
   "metadata": {},
   "outputs": [
    {
     "data": {
      "text/plain": [
       "Index(['age', 'is_female', 'bmi', 'children', 'is_smoker', 'charges',\n",
       "       'region_northwest', 'region_southeast', 'region_southwest',\n",
       "       'bmi_category_Normal', 'bmi_category_Overweight', 'bmi_category_Obese'],\n",
       "      dtype='object')"
      ]
     },
     "execution_count": 54,
     "metadata": {},
     "output_type": "execute_result"
    }
   ],
   "source": [
    "df_cleaned.columns"
   ]
  },
  {
   "cell_type": "code",
   "execution_count": 55,
   "id": "a1111c2a",
   "metadata": {},
   "outputs": [],
   "source": [
    "cat_features = [\n",
    "    'is_female','is_smoker',\n",
    "    'region_northwest', 'region_southeast', 'region_southwest',\n",
    "    'bmi_category_Normal', 'bmi_category_Overweight', 'bmi_category_Obese'\n",
    "]"
   ]
  },
  {
   "cell_type": "code",
   "execution_count": 58,
   "id": "3fae9729",
   "metadata": {},
   "outputs": [],
   "source": [
    "from scipy.stats import chi2_contingency\n",
    "import pandas as pd\n",
    "\n",
    "alpha = 0.05\n",
    "\n",
    "df_cleaned[\"charges_bin\"] = pd.qcut(df_cleaned[\"charges\"], q=4, labels= False)\n",
    "\n",
    "chi2_results = {}\n",
    "\n",
    "for col in cat_features:\n",
    "    contingency = pd.crosstab(df_cleaned[col], df_cleaned[\"charges_bin\"])\n",
    "    chi2_stat, p_val, _,_ = chi2_contingency(contingency)\n",
    "    decision = \"Reject Null (Keep Feature)\" if p_val < alpha else \"Accept Null (Drop Feature)\"\n",
    "    chi2_results[col] = {\n",
    "        'chi2_statistics' : chi2_stat,\n",
    "        'p_value' : p_val,\n",
    "        'Decision' : decision\n",
    "    }"
   ]
  },
  {
   "cell_type": "code",
   "execution_count": 59,
   "id": "fcb7d784",
   "metadata": {},
   "outputs": [
    {
     "data": {
      "application/vnd.microsoft.datawrangler.viewer.v0+json": {
       "columns": [
        {
         "name": "index",
         "rawType": "object",
         "type": "string"
        },
        {
         "name": "chi2_statistics",
         "rawType": "object",
         "type": "unknown"
        },
        {
         "name": "p_value",
         "rawType": "object",
         "type": "unknown"
        },
        {
         "name": "Decision",
         "rawType": "object",
         "type": "string"
        }
       ],
       "ref": "3a25731b-1dca-4171-b314-919e9b671e9d",
       "rows": [
        [
         "is_smoker",
         "848.2191784691495",
         "1.5074776554531109e-183",
         "Reject Null (Keep Feature)"
        ],
        [
         "region_southeast",
         "15.998167448977355",
         "0.0011349657141180658",
         "Reject Null (Keep Feature)"
        ],
        [
         "is_female",
         "10.258784131896034",
         "0.016489740254825688",
         "Reject Null (Keep Feature)"
        ],
        [
         "bmi_category_Obese",
         "8.515710780987105",
         "0.03647336117085788",
         "Reject Null (Keep Feature)"
        ],
        [
         "region_southwest",
         "5.091893034250699",
         "0.16519063312163632",
         "Accept Null (Drop Feature)"
        ],
        [
         "bmi_category_Overweight",
         "4.2514897526301425",
         "0.23555707838052772",
         "Accept Null (Drop Feature)"
        ],
        [
         "bmi_category_Normal",
         "3.7080882993067794",
         "0.29475953089283036",
         "Accept Null (Drop Feature)"
        ],
        [
         "region_northwest",
         "1.1342403613235656",
         "0.76881540917986",
         "Accept Null (Drop Feature)"
        ]
       ],
       "shape": {
        "columns": 3,
        "rows": 8
       }
      },
      "text/html": [
       "<div>\n",
       "<style scoped>\n",
       "    .dataframe tbody tr th:only-of-type {\n",
       "        vertical-align: middle;\n",
       "    }\n",
       "\n",
       "    .dataframe tbody tr th {\n",
       "        vertical-align: top;\n",
       "    }\n",
       "\n",
       "    .dataframe thead th {\n",
       "        text-align: right;\n",
       "    }\n",
       "</style>\n",
       "<table border=\"1\" class=\"dataframe\">\n",
       "  <thead>\n",
       "    <tr style=\"text-align: right;\">\n",
       "      <th></th>\n",
       "      <th>chi2_statistics</th>\n",
       "      <th>p_value</th>\n",
       "      <th>Decision</th>\n",
       "    </tr>\n",
       "  </thead>\n",
       "  <tbody>\n",
       "    <tr>\n",
       "      <th>is_smoker</th>\n",
       "      <td>848.219178</td>\n",
       "      <td>0.0</td>\n",
       "      <td>Reject Null (Keep Feature)</td>\n",
       "    </tr>\n",
       "    <tr>\n",
       "      <th>region_southeast</th>\n",
       "      <td>15.998167</td>\n",
       "      <td>0.001135</td>\n",
       "      <td>Reject Null (Keep Feature)</td>\n",
       "    </tr>\n",
       "    <tr>\n",
       "      <th>is_female</th>\n",
       "      <td>10.258784</td>\n",
       "      <td>0.01649</td>\n",
       "      <td>Reject Null (Keep Feature)</td>\n",
       "    </tr>\n",
       "    <tr>\n",
       "      <th>bmi_category_Obese</th>\n",
       "      <td>8.515711</td>\n",
       "      <td>0.036473</td>\n",
       "      <td>Reject Null (Keep Feature)</td>\n",
       "    </tr>\n",
       "    <tr>\n",
       "      <th>region_southwest</th>\n",
       "      <td>5.091893</td>\n",
       "      <td>0.165191</td>\n",
       "      <td>Accept Null (Drop Feature)</td>\n",
       "    </tr>\n",
       "    <tr>\n",
       "      <th>bmi_category_Overweight</th>\n",
       "      <td>4.25149</td>\n",
       "      <td>0.235557</td>\n",
       "      <td>Accept Null (Drop Feature)</td>\n",
       "    </tr>\n",
       "    <tr>\n",
       "      <th>bmi_category_Normal</th>\n",
       "      <td>3.708088</td>\n",
       "      <td>0.29476</td>\n",
       "      <td>Accept Null (Drop Feature)</td>\n",
       "    </tr>\n",
       "    <tr>\n",
       "      <th>region_northwest</th>\n",
       "      <td>1.13424</td>\n",
       "      <td>0.768815</td>\n",
       "      <td>Accept Null (Drop Feature)</td>\n",
       "    </tr>\n",
       "  </tbody>\n",
       "</table>\n",
       "</div>"
      ],
      "text/plain": [
       "                        chi2_statistics   p_value                    Decision\n",
       "is_smoker                    848.219178       0.0  Reject Null (Keep Feature)\n",
       "region_southeast              15.998167  0.001135  Reject Null (Keep Feature)\n",
       "is_female                     10.258784   0.01649  Reject Null (Keep Feature)\n",
       "bmi_category_Obese             8.515711  0.036473  Reject Null (Keep Feature)\n",
       "region_southwest               5.091893  0.165191  Accept Null (Drop Feature)\n",
       "bmi_category_Overweight         4.25149  0.235557  Accept Null (Drop Feature)\n",
       "bmi_category_Normal            3.708088   0.29476  Accept Null (Drop Feature)\n",
       "region_northwest                1.13424  0.768815  Accept Null (Drop Feature)"
      ]
     },
     "execution_count": 59,
     "metadata": {},
     "output_type": "execute_result"
    }
   ],
   "source": [
    "chi2_df = pd.DataFrame(chi2_results).T\n",
    "chi2_df = chi2_df.sort_values(by = 'p_value')\n",
    "chi2_df"
   ]
  },
  {
   "cell_type": "code",
   "execution_count": 60,
   "id": "33b8a164",
   "metadata": {},
   "outputs": [],
   "source": [
    "final_df = df_cleaned[['age', 'is_female', 'bmi', 'children', 'is_smoker', 'charges','region_southeast','bmi_category_Obese']]"
   ]
  },
  {
   "cell_type": "code",
   "execution_count": 61,
   "id": "569a3683",
   "metadata": {},
   "outputs": [
    {
     "data": {
      "application/vnd.microsoft.datawrangler.viewer.v0+json": {
       "columns": [
        {
         "name": "index",
         "rawType": "int64",
         "type": "integer"
        },
        {
         "name": "age",
         "rawType": "float64",
         "type": "float"
        },
        {
         "name": "is_female",
         "rawType": "int64",
         "type": "integer"
        },
        {
         "name": "bmi",
         "rawType": "float64",
         "type": "float"
        },
        {
         "name": "children",
         "rawType": "float64",
         "type": "float"
        },
        {
         "name": "is_smoker",
         "rawType": "int64",
         "type": "integer"
        },
        {
         "name": "charges",
         "rawType": "int64",
         "type": "integer"
        },
        {
         "name": "region_southeast",
         "rawType": "int64",
         "type": "integer"
        },
        {
         "name": "bmi_category_Obese",
         "rawType": "int64",
         "type": "integer"
        }
       ],
       "ref": "f4d1ca1f-5646-4b68-b4c2-60dbbeca2b96",
       "rows": [
        [
         "0",
         "-1.4404177293803346",
         "1",
         "-0.5179491381563489",
         "-0.9092341626291546",
         "1",
         "16884",
         "0",
         "0"
        ],
        [
         "1",
         "-1.5116474702606657",
         "0",
         "0.462463317315626",
         "-0.07944161966998751",
         "0",
         "1725",
         "1",
         "1"
        ],
        [
         "2",
         "-0.7993500614573563",
         "0",
         "0.462463317315626",
         "1.5801434662483465",
         "0",
         "4449",
         "1",
         "1"
        ],
        [
         "3",
         "-0.44320135705570163",
         "0",
         "-1.334959517716328",
         "-0.9092341626291546",
         "0",
         "21984",
         "0",
         "0"
        ],
        [
         "4",
         "-0.5144310979360326",
         "0",
         "-0.35454706224435306",
         "-0.9092341626291546",
         "0",
         "3866",
         "0",
         "0"
        ]
       ],
       "shape": {
        "columns": 8,
        "rows": 5
       }
      },
      "text/html": [
       "<div>\n",
       "<style scoped>\n",
       "    .dataframe tbody tr th:only-of-type {\n",
       "        vertical-align: middle;\n",
       "    }\n",
       "\n",
       "    .dataframe tbody tr th {\n",
       "        vertical-align: top;\n",
       "    }\n",
       "\n",
       "    .dataframe thead th {\n",
       "        text-align: right;\n",
       "    }\n",
       "</style>\n",
       "<table border=\"1\" class=\"dataframe\">\n",
       "  <thead>\n",
       "    <tr style=\"text-align: right;\">\n",
       "      <th></th>\n",
       "      <th>age</th>\n",
       "      <th>is_female</th>\n",
       "      <th>bmi</th>\n",
       "      <th>children</th>\n",
       "      <th>is_smoker</th>\n",
       "      <th>charges</th>\n",
       "      <th>region_southeast</th>\n",
       "      <th>bmi_category_Obese</th>\n",
       "    </tr>\n",
       "  </thead>\n",
       "  <tbody>\n",
       "    <tr>\n",
       "      <th>0</th>\n",
       "      <td>-1.440418</td>\n",
       "      <td>1</td>\n",
       "      <td>-0.517949</td>\n",
       "      <td>-0.909234</td>\n",
       "      <td>1</td>\n",
       "      <td>16884</td>\n",
       "      <td>0</td>\n",
       "      <td>0</td>\n",
       "    </tr>\n",
       "    <tr>\n",
       "      <th>1</th>\n",
       "      <td>-1.511647</td>\n",
       "      <td>0</td>\n",
       "      <td>0.462463</td>\n",
       "      <td>-0.079442</td>\n",
       "      <td>0</td>\n",
       "      <td>1725</td>\n",
       "      <td>1</td>\n",
       "      <td>1</td>\n",
       "    </tr>\n",
       "    <tr>\n",
       "      <th>2</th>\n",
       "      <td>-0.799350</td>\n",
       "      <td>0</td>\n",
       "      <td>0.462463</td>\n",
       "      <td>1.580143</td>\n",
       "      <td>0</td>\n",
       "      <td>4449</td>\n",
       "      <td>1</td>\n",
       "      <td>1</td>\n",
       "    </tr>\n",
       "    <tr>\n",
       "      <th>3</th>\n",
       "      <td>-0.443201</td>\n",
       "      <td>0</td>\n",
       "      <td>-1.334960</td>\n",
       "      <td>-0.909234</td>\n",
       "      <td>0</td>\n",
       "      <td>21984</td>\n",
       "      <td>0</td>\n",
       "      <td>0</td>\n",
       "    </tr>\n",
       "    <tr>\n",
       "      <th>4</th>\n",
       "      <td>-0.514431</td>\n",
       "      <td>0</td>\n",
       "      <td>-0.354547</td>\n",
       "      <td>-0.909234</td>\n",
       "      <td>0</td>\n",
       "      <td>3866</td>\n",
       "      <td>0</td>\n",
       "      <td>0</td>\n",
       "    </tr>\n",
       "  </tbody>\n",
       "</table>\n",
       "</div>"
      ],
      "text/plain": [
       "        age  is_female       bmi  children  is_smoker  charges  \\\n",
       "0 -1.440418          1 -0.517949 -0.909234          1    16884   \n",
       "1 -1.511647          0  0.462463 -0.079442          0     1725   \n",
       "2 -0.799350          0  0.462463  1.580143          0     4449   \n",
       "3 -0.443201          0 -1.334960 -0.909234          0    21984   \n",
       "4 -0.514431          0 -0.354547 -0.909234          0     3866   \n",
       "\n",
       "   region_southeast  bmi_category_Obese  \n",
       "0                 0                   0  \n",
       "1                 1                   1  \n",
       "2                 1                   1  \n",
       "3                 0                   0  \n",
       "4                 0                   0  "
      ]
     },
     "execution_count": 61,
     "metadata": {},
     "output_type": "execute_result"
    }
   ],
   "source": [
    "final_df.head()"
   ]
  },
  {
   "cell_type": "code",
   "execution_count": 62,
   "id": "73714421",
   "metadata": {},
   "outputs": [
    {
     "name": "stdout",
     "output_type": "stream",
     "text": [
      "The End\n"
     ]
    }
   ],
   "source": [
    "print(\"The End\")"
   ]
  }
 ],
 "metadata": {
  "kernelspec": {
   "display_name": "Python 3",
   "language": "python",
   "name": "python3"
  },
  "language_info": {
   "codemirror_mode": {
    "name": "ipython",
    "version": 3
   },
   "file_extension": ".py",
   "mimetype": "text/x-python",
   "name": "python",
   "nbconvert_exporter": "python",
   "pygments_lexer": "ipython3",
   "version": "3.10.0"
  }
 },
 "nbformat": 4,
 "nbformat_minor": 5
}
